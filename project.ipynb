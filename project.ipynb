{
 "cells": [
  {
   "cell_type": "markdown",
   "metadata": {},
   "source": [
    "# Setup"
   ]
  },
  {
   "cell_type": "code",
   "execution_count": 1,
   "metadata": {},
   "outputs": [
    {
     "name": "stderr",
     "output_type": "stream",
     "text": [
      "/Users/winsonchow/Documents/GitHub/RAG-app/venv/lib/python3.9/site-packages/urllib3/__init__.py:35: NotOpenSSLWarning: urllib3 v2 only supports OpenSSL 1.1.1+, currently the 'ssl' module is compiled with 'LibreSSL 2.8.3'. See: https://github.com/urllib3/urllib3/issues/3020\n",
      "  warnings.warn(\n",
      "/Users/winsonchow/Documents/GitHub/RAG-app/venv/lib/python3.9/site-packages/tqdm/auto.py:21: TqdmWarning: IProgress not found. Please update jupyter and ipywidgets. See https://ipywidgets.readthedocs.io/en/stable/user_install.html\n",
      "  from .autonotebook import tqdm as notebook_tqdm\n"
     ]
    }
   ],
   "source": [
    "# System imports\n",
    "import os\n",
    "import re\n",
    "from dotenv import load_dotenv\n",
    "\n",
    "# Python libraries\n",
    "import requests\n",
    "\n",
    "# Gradio imports\n",
    "import gradio as gr\n",
    "\n",
    "# OpenAI imports\n",
    "from openai import OpenAI\n",
    "\n",
    "# BeautifulSoup imports\n",
    "from bs4 import BeautifulSoup"
   ]
  },
  {
   "cell_type": "code",
   "execution_count": 2,
   "metadata": {},
   "outputs": [],
   "source": [
    "# Load the environment variables\n",
    "load_dotenv()\n",
    "\n",
    "# Retrieve the API key from the environment variable\n",
    "client = OpenAI(\n",
    "    api_key=os.environ.get(\"OPENAI_API_KEY\"),\n",
    ")"
   ]
  },
  {
   "cell_type": "code",
   "execution_count": 3,
   "metadata": {},
   "outputs": [],
   "source": [
    "# Define API endpoints\n",
    "list_posts_url = 'https://www.techinasia.com/wp-json/techinasia/2.0/posts'\n",
    "search_posts_url = 'https://www.techinasia.com/wp-json/techinasia/2.0/articles?query='"
   ]
  },
  {
   "cell_type": "markdown",
   "metadata": {},
   "source": [
    "# Fetch Posts from API"
   ]
  },
  {
   "cell_type": "code",
   "execution_count": null,
   "metadata": {},
   "outputs": [],
   "source": [
    "# Function to fetch posts from API\n",
    "def fetch_posts_from_api(page):\n",
    "    try:\n",
    "        headers = {\n",
    "            'User-Agent': 'Mozilla/5.0 (Windows NT 10.0; Win64; x64) AppleWebKit/537.36 (KHTML, like Gecko) Chrome/91.0.4472.124 Safari/537.36'\n",
    "        }\n",
    "        response = requests.get(list_posts_url, params={'page': page}, headers=headers)\n",
    "        response.raise_for_status()\n",
    "        print(\"Status Code:\", response.status_code)\n",
    "        # print(\"Response Headers:\", response.headers)\n",
    "        # print(\"Response Text:\", response.text)\n",
    "\n",
    "        post_data = response.json()\n",
    "\n",
    "        return post_data['posts']\n",
    "    \n",
    "    except requests.exceptions.RequestException as e:\n",
    "        print(f'Error fetching posts: {e}')\n",
    "        return None\n",
    "    except ValueError as e:\n",
    "        print(f'Error parsing response: {e}')\n",
    "        return None"
   ]
  },
  {
   "cell_type": "code",
   "execution_count": null,
   "metadata": {},
   "outputs": [],
   "source": [
    "# Fetch posts\n",
    "page = 1\n",
    "posts = fetch_posts_from_api(page=page)\n",
    "print(f\"Fetched {len(posts)} posts.\")\n",
    "\n",
    "# # Display the first post to verify the structure\n",
    "# if posts:\n",
    "#     print(posts[0])"
   ]
  },
  {
   "cell_type": "markdown",
   "metadata": {},
   "source": [
    "# Search Posts from API"
   ]
  },
  {
   "cell_type": "code",
   "execution_count": 4,
   "metadata": {},
   "outputs": [],
   "source": [
    "# Function to search posts from API\n",
    "def search_posts(query):\n",
    "    try:\n",
    "        headers = {\n",
    "            'User-Agent': 'Mozilla/5.0 (Windows NT 10.0; Win64; x64) AppleWebKit/537.36 (KHTML, like Gecko) Chrome/91.0.4472.124 Safari/537.36'\n",
    "        }\n",
    "        response = requests.get(search_posts_url, params={'query': query}, headers=headers)\n",
    "        response.raise_for_status()\n",
    "        print(\"Status Code:\", response.status_code)\n",
    "        # print(\"Response Headers:\", response.headers)\n",
    "        # print(\"Response Text:\", response.text)\n",
    "\n",
    "        return response.json()\n",
    "    \n",
    "    except requests.exceptions.RequestException as e:\n",
    "        print(f'Error fetching posts: {e}')\n",
    "        return None\n",
    "    except ValueError as e:\n",
    "        print(f'Error parsing response: {e}')\n",
    "        return None"
   ]
  },
  {
   "cell_type": "markdown",
   "metadata": {},
   "source": [
    "# Query Preprocessing"
   ]
  },
  {
   "cell_type": "code",
   "execution_count": null,
   "metadata": {},
   "outputs": [],
   "source": [
    "# Search for posts with a keyword\n",
    "query = \"Apple\""
   ]
  },
  {
   "cell_type": "code",
   "execution_count": 5,
   "metadata": {},
   "outputs": [
    {
     "name": "stdout",
     "output_type": "stream",
     "text": [
      "Status Code: 200\n",
      "Context: Apple’s Mac event has Chinese fans thinking about buying a Surface<img src=\"https://cdn.techinasia.com/wp-content/uploads/2016/10/Macbook-1024x769-750x563.jpg\" alt=\"macbook-1024x769\" width=\"750\" height=\"563\" class=\"aligncenter size-large wp-image-361217\" />\n",
      "\n",
      "Apple's Mac event last week didn't look great in comparison with Microsoft's surprisingly great event the day before. On Friday I wrote that <a href=\"https://www.techinasia.com/microsoft-apple\">Microsoft is the new Apple</a>, and it seems like China's tech community may be thinking the same thing.\n",
      "\n",
      "Apple's upgraded MacBook Pro line obviously made headlines across all of China's tech news sites, but commenters seem decidedly underwhelmed by Apple's innovations this go-round. For example, one popular comment <a href=\"http://comment5.news.sina.com.cn/comment/skin/default.html?channel=kj&newsid=comos-fxxfuff6995630\">on Sina Tech</a> reads:\n",
      "\n",
      "<blockquote>Apple's launch events are getting more and more disappointing. Originally I was thinking I'd wait for the upgraded MacBook Pro, but it turns out all they \"upgraded\" was the price. It's just not worth it. Can Apple get back to the transformative way it was in the Steve Jobs era? Now it seems its attempts at change are very stiff. Like the ports. In the Jobs era, everybody was excited by the changes Apple made. If you just keep slowly chewing through your capital, it's just a matter of time before Chinese machines surpass you guys [at Apple].</blockquote>\n",
      "\n",
      "But if Chinese machines are on the verge of surpassing Apple, it seems for some commenters Microsoft's machines already have. One of the most popular comments on Sina Tech reads: \"Compared to the Surface Book, this is totally unattractive.\" And over on Netease Tech, when one commenter listed some upsides of the new MacBook Pro, another commenter replied: \"I think those upsides you mentioned are all even better on the Surface.\" That reply received five times as many upvotes as the MacBook-praising comment it was responding to.\n",
      "\n",
      "\"With the pricing so similar, I choose the Surface,\" wrote another commenter.\n",
      "\n",
      "Of course, there were also numerous comments across all of China's tech sites praising Apple's newest machines, but the overall mood was decidedly negative. In a Sina Tech poll asking users whether they wanted to buy the new MacBook Pro, only 14.3 percent (as of this writing) said yes. 49.3 percent said they wouldn't buy it, and the other 36.3 percent were undecided.\n",
      "\n",
      "It would be foolish to draw any hard conclusions based on such a limited sample of customer sentiment, but the mood of China's tech site commenters also shouldn't be ignored. After all, <a href=\"https://www.techinasia.com/china-thinks-iphone-7\">commenters were also pretty negative</a> after Apple's iPhone 7 launch, and a month later, <a href=\"http://www.cnbc.com/2016/10/20/demand-for-apples-iphone-7-in-china-is-tepid-ubs-says.html\">analysts were saying China had only \"tepid\" interest</a> in the new phone. If the same proves true for these new MacBooks, Apple could be in for yet another quarter of <a href=\"http://www.chinadaily.com.cn/business/tech/2016-10/27/content_27185568.htm\">scary drops in its China market</a>. And after Microsoft's impressive event last week, it looks likely that Apple loss could end up being Microsoft's gain.Apple buys its first Indian startup\n",
      "\n",
      "Apple has bought Tuplejump, a Hyderabad-based startup that uses artificial intelligence to understand and manage big data, according to reports from <em><a href=\"https://techcrunch.com/2016/09/22/apple-acquires-another-machine-learning-company-tuplejump/\">TechCrunch</a></em> and <em><a href=\"http://www.bloomberg.com/news/articles/2016-09-22/apple-buys-tuplejump-to-expand-machine-learning-capabilities\">Bloomberg</a></em>. The acquisition happened in June, <em>Bloomberg</em> said.\n",
      "\n",
      "Tuplejump was founded by Rohit Rai, Satyaprakash Buddhavarapu, and Deepak Alur. According to Rohit and Satyaprakash’s LinkedIn profiles, they moved to work at Apple in May. Deepak left to join <a href=\"https://www.anaplan.com\">Anaplan</a> in April. Tuplejump’s site has been taken down.\n",
      "\n",
      "“Apple buys smaller technology companies from time to time, and we generally do not discuss our purpose or plans,” Colin Johnson, an Apple spokesman, said in a statement to <em>TechCrunch</em>.\n",
      "\n",
      "If the reports are true, this will be Apple’s third acquisition this year. Last month, it <a href=\"http://www.geekwire.com/2016/exclusive-apple-acquires-turi-major-exit-seattle-based-machine-learning-ai-startup/\">bought</a> machine-learning startup Turi for US$200 million. In January, it <a href=\"http://www.wsj.com/articles/apple-buys-artificial-intelligence-startup-emotient-1452188715\">bought</a> Emotient for an undisclosed amount. Emotient uses artificial intelligence to analyze facial expressions to figure out emotions. It's also yet another addition to the company's foray into artificial intelligence technology. In October 2015, Apple <a href=\"http://www.bloomberg.com/news/articles/2015-10-05/apple-acquires-startup-developing-advanced-ai-for-phones\">acquired</a> Perceptio, which makes it possible to run artifical intelligence image-classification programs on phones without needing too much customer data.\n",
      "\n",
      "Tuplejump will be the first Indian startup that Apple has bought.\n",
      "\n",
      "The southern city of Hyderabad has had some of its other startups get attention. <a href=\"https://www.appvirality.com\">AppVirality</a>, a startup that develops toolkits to help mobile developers figure out how to grow their apps, has <a href=\"https://www.techinasia.com/google-india-boss-doubles-growth-hack-toolkit-mobile-apps-appvirality\">been backed</a> by Rajan Anandan, managing director of Google India and Southeast Asia.\n",
      "\n",
      "<strong>Source: <em><a href=\"https://techcrunch.com/2016/09/22/apple-acquires-another-machine-learning-company-tuplejump/\">TechCrunch</a></em></strong>\n",
      "\n",
      "<p style=\"text-align: center;\"><strong>See: <a href=\"https://www.techinasia.com/ai-recurring-theme-with-microsoft-accelerator-batch-13-startups\">AI is the recurring theme in Microsoft Accelerator's latest batch of startups</a></strong></p>\n"
     ]
    }
   ],
   "source": [
    "# Fetch search results\n",
    "search_results = search_posts(query)\n",
    "\n",
    "# Display the search results\n",
    "if search_results and 'posts' in search_results and 'hits' in search_results['posts']:\n",
    "    search_posts = search_results['posts']['hits']\n",
    "\n",
    "    # Articles with title and content\n",
    "    raw_articles = \"\".join([post['title'] + post['content'] for post in search_posts[:3]])\n",
    "else:\n",
    "    raw_articles = 'No relevant posts found.'"
   ]
  },
  {
   "cell_type": "markdown",
   "metadata": {},
   "source": [
    "# Articles Preprocessing"
   ]
  },
  {
   "cell_type": "code",
   "execution_count": 7,
   "metadata": {},
   "outputs": [],
   "source": [
    "def preprocess_text(text):\n",
    "    # Remove HTML tags\n",
    "    text = BeautifulSoup(text, 'html.parser').get_text()\n",
    "\n",
    "    # Remove URLs\n",
    "    text = re.sub(r'http\\S+', '', text)\n",
    "\n",
    "    # Handle special characters\n",
    "    text = re.sub(r'&amp;', '&', text)\n",
    "\n",
    "    # Normalise whitespace\n",
    "    text = re.sub(r'\\s+', ' ', text)\n",
    "\n",
    "    # Remove source and citation tags\n",
    "    text = re.sub(r'\\[.*?\\]+', '', text)\n",
    "\n",
    "    return text"
   ]
  },
  {
   "cell_type": "code",
   "execution_count": 9,
   "metadata": {},
   "outputs": [
    {
     "name": "stdout",
     "output_type": "stream",
     "text": [
      "Apple’s Mac event has Chinese fans thinking about buying a Surface Apple's Mac event last week didn't look great in comparison with Microsoft's surprisingly great event the day before. On Friday I wrote that Microsoft is the new Apple, and it seems like China's tech community may be thinking the same thing. Apple's upgraded MacBook Pro line obviously made headlines across all of China's tech news sites, but commenters seem decidedly underwhelmed by Apple's innovations this go-round. For example, one popular comment on Sina Tech reads: Apple's launch events are getting more and more disappointing. Originally I was thinking I'd wait for the upgraded MacBook Pro, but it turns out all they \"upgraded\" was the price. It's just not worth it. Can Apple get back to the transformative way it was in the Steve Jobs era? Now it seems its attempts at change are very stiff. Like the ports. In the Jobs era, everybody was excited by the changes Apple made. If you just keep slowly chewing through your capital, it's just a matter of time before Chinese machines surpass you guys . But if Chinese machines are on the verge of surpassing Apple, it seems for some commenters Microsoft's machines already have. One of the most popular comments on Sina Tech reads: \"Compared to the Surface Book, this is totally unattractive.\" And over on Netease Tech, when one commenter listed some upsides of the new MacBook Pro, another commenter replied: \"I think those upsides you mentioned are all even better on the Surface.\" That reply received five times as many upvotes as the MacBook-praising comment it was responding to. \"With the pricing so similar, I choose the Surface,\" wrote another commenter. Of course, there were also numerous comments across all of China's tech sites praising Apple's newest machines, but the overall mood was decidedly negative. In a Sina Tech poll asking users whether they wanted to buy the new MacBook Pro, only 14.3 percent (as of this writing) said yes. 49.3 percent said they wouldn't buy it, and the other 36.3 percent were undecided. It would be foolish to draw any hard conclusions based on such a limited sample of customer sentiment, but the mood of China's tech site commenters also shouldn't be ignored. After all, commenters were also pretty negative after Apple's iPhone 7 launch, and a month later, analysts were saying China had only \"tepid\" interest in the new phone. If the same proves true for these new MacBooks, Apple could be in for yet another quarter of scary drops in its China market. And after Microsoft's impressive event last week, it looks likely that Apple loss could end up being Microsoft's gain.Apple buys its first Indian startup Apple has bought Tuplejump, a Hyderabad-based startup that uses artificial intelligence to understand and manage big data, according to reports from TechCrunch and Bloomberg. The acquisition happened in June, Bloomberg said. Tuplejump was founded by Rohit Rai, Satyaprakash Buddhavarapu, and Deepak Alur. According to Rohit and Satyaprakash’s LinkedIn profiles, they moved to work at Apple in May. Deepak left to join Anaplan in April. Tuplejump’s site has been taken down. “Apple buys smaller technology companies from time to time, and we generally do not discuss our purpose or plans,” Colin Johnson, an Apple spokesman, said in a statement to TechCrunch. If the reports are true, this will be Apple’s third acquisition this year. Last month, it bought machine-learning startup Turi for US$200 million. In January, it bought Emotient for an undisclosed amount. Emotient uses artificial intelligence to analyze facial expressions to figure out emotions. It's also yet another addition to the company's foray into artificial intelligence technology. In October 2015, Apple acquired Perceptio, which makes it possible to run artifical intelligence image-classification programs on phones without needing too much customer data. Tuplejump will be the first Indian startup that Apple has bought. The southern city of Hyderabad has had some of its other startups get attention. AppVirality, a startup that develops toolkits to help mobile developers figure out how to grow their apps, has been backed by Rajan Anandan, managing director of Google India and Southeast Asia. Source: TechCrunch See: AI is the recurring theme in Microsoft Accelerator's latest batch of startups\n",
      "Length of raw content: 6121\n",
      "Length of cleaned content: 4353\n"
     ]
    }
   ],
   "source": [
    "# Apply preprocessing\n",
    "cleaned_articles = preprocess_text(raw_articles)\n",
    "print(cleaned_articles)\n",
    "\n",
    "# Length of cleaned content\n",
    "print(f\"Length of raw content: {len(raw_articles)}\")\n",
    "print(f\"Length of cleaned content: {len(cleaned_articles)}\")"
   ]
  },
  {
   "cell_type": "markdown",
   "metadata": {},
   "source": [
    "# Generate Response"
   ]
  },
  {
   "cell_type": "code",
   "execution_count": null,
   "metadata": {},
   "outputs": [],
   "source": [
    "# Function to process search results and generate background knowledge\n",
    "def generate_context(search_results):\n",
    "    if search_results and 'posts' in search_results and 'hits' in search_results['posts']:\n",
    "        search_posts = search_results['posts']['hits']\n",
    "\n",
    "        # background knowledge with title and content\n",
    "        raw_articles = \"\".join([post['title'] + post['content'] for post in search_posts[:3]])\n",
    "    else:\n",
    "        raw_articles = 'No relevant posts found.'\n",
    "    return raw_articles"
   ]
  },
  {
   "cell_type": "code",
   "execution_count": null,
   "metadata": {},
   "outputs": [],
   "source": [
    "# Function to generate responses using OpenAI\n",
    "def generate_response(search_results, query):\n",
    "    try:\n",
    "        background_knowledge = generate_context(search_results)\n",
    "\n",
    "        response = client.chat.completions.create(\n",
    "            model=\"gpt-3.5-turbo\",\n",
    "            messages=[\n",
    "                {\"role\": \"system\", \"content\": \"Answer the question based on the question asked and background knowledge provided below, and if the question can't be answered based on the context, say \\\"I don't know\\\"\\n\\n\"},\n",
    "                {\"role\": \"user\", \"content\": f\"Question: {query}\\nBackground Knowledge: {background_knowledge}\\nAnswer:\"}\n",
    "            ],\n",
    "            max_tokens=100\n",
    "        )\n",
    "        return response.choices[0].message.content\n",
    "    \n",
    "    except Exception as e:\n",
    "        print(f'Error generating response: {e}')\n",
    "        return None"
   ]
  },
  {
   "cell_type": "code",
   "execution_count": null,
   "metadata": {},
   "outputs": [],
   "source": [
    "# # Test the response generation\n",
    "# query = 'How is Grab performing in the market?'\n",
    "\n",
    "# search_results = search_posts(query)\n",
    "# generate_response(search_results, query)"
   ]
  },
  {
   "cell_type": "markdown",
   "metadata": {},
   "source": [
    "# Interface"
   ]
  },
  {
   "cell_type": "code",
   "execution_count": null,
   "metadata": {},
   "outputs": [],
   "source": [
    "# Build the Gradio interface\n",
    "def rag_interface(query):\n",
    "    search_results = search_posts(query)\n",
    "    return generate_response(search_results, query)\n",
    "\n",
    "iface = gr.Interface(fn=rag_interface, inputs=\"text\", outputs=\"text\", title='Tech in Asia RAG System', description='Ask a question about Tech in Asia and get an answer based on the context of the latest posts.')\n",
    "iface.launch()"
   ]
  }
 ],
 "metadata": {
  "kernelspec": {
   "display_name": "venv",
   "language": "python",
   "name": "python3"
  },
  "language_info": {
   "codemirror_mode": {
    "name": "ipython",
    "version": 3
   },
   "file_extension": ".py",
   "mimetype": "text/x-python",
   "name": "python",
   "nbconvert_exporter": "python",
   "pygments_lexer": "ipython3",
   "version": "3.9.6"
  }
 },
 "nbformat": 4,
 "nbformat_minor": 2
}
