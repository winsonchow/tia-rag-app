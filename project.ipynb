{
 "cells": [
  {
   "cell_type": "markdown",
   "metadata": {},
   "source": [
    "# Setup"
   ]
  },
  {
   "cell_type": "code",
   "execution_count": 1,
   "metadata": {},
   "outputs": [
    {
     "name": "stderr",
     "output_type": "stream",
     "text": [
      "/Users/winsonchow/Documents/GitHub/RAG-app/venv/lib/python3.9/site-packages/urllib3/__init__.py:35: NotOpenSSLWarning: urllib3 v2 only supports OpenSSL 1.1.1+, currently the 'ssl' module is compiled with 'LibreSSL 2.8.3'. See: https://github.com/urllib3/urllib3/issues/3020\n",
      "  warnings.warn(\n",
      "/Users/winsonchow/Documents/GitHub/RAG-app/venv/lib/python3.9/site-packages/tqdm/auto.py:21: TqdmWarning: IProgress not found. Please update jupyter and ipywidgets. See https://ipywidgets.readthedocs.io/en/stable/user_install.html\n",
      "  from .autonotebook import tqdm as notebook_tqdm\n"
     ]
    }
   ],
   "source": [
    "# System imports\n",
    "import os\n",
    "import re\n",
    "\n",
    "# Environment variable management\n",
    "from dotenv import load_dotenv\n",
    "\n",
    "# HTTP requests\n",
    "import requests\n",
    "\n",
    "# Web scraping\n",
    "from bs4 import BeautifulSoup\n",
    "\n",
    "# NLP processing\n",
    "import spacy\n",
    "\n",
    "# Ranking algorithm\n",
    "from rank_bm25 import BM25Okapi\n",
    "\n",
    "# OpenAI API\n",
    "from openai import OpenAI\n",
    "\n",
    "# User interface\n",
    "import gradio as gr"
   ]
  },
  {
   "cell_type": "code",
   "execution_count": 2,
   "metadata": {},
   "outputs": [],
   "source": [
    "# Load the environment variables\n",
    "load_dotenv()\n",
    "\n",
    "# Retrieve the API key from the environment variable\n",
    "client = OpenAI(\n",
    "    api_key=os.environ.get(\"OPENAI_API_KEY\"),\n",
    ")"
   ]
  },
  {
   "cell_type": "code",
   "execution_count": 3,
   "metadata": {},
   "outputs": [],
   "source": [
    "# Define API endpoints\n",
    "list_posts_url = 'https://www.techinasia.com/wp-json/techinasia/2.0/posts'\n",
    "search_posts_url = 'https://www.techinasia.com/wp-json/techinasia/2.0/articles?query='"
   ]
  },
  {
   "cell_type": "markdown",
   "metadata": {},
   "source": [
    "# Fetch Posts from API"
   ]
  },
  {
   "cell_type": "code",
   "execution_count": 4,
   "metadata": {},
   "outputs": [],
   "source": [
    "# Function to fetch posts from API\n",
    "def fetch_posts_from_api(page):\n",
    "    try:\n",
    "        headers = {\n",
    "            'User-Agent': 'Mozilla/5.0 (Windows NT 10.0; Win64; x64) AppleWebKit/537.36 (KHTML, like Gecko) Chrome/91.0.4472.124 Safari/537.36'\n",
    "        }\n",
    "        response = requests.get(list_posts_url, params={'page': page}, headers=headers)\n",
    "        response.raise_for_status()\n",
    "        print(\"Status Code:\", response.status_code)\n",
    "        # print(\"Response Headers:\", response.headers)\n",
    "        # print(\"Response Text:\", response.text)\n",
    "\n",
    "        post_data = response.json()\n",
    "\n",
    "        return post_data['posts']\n",
    "    \n",
    "    except requests.exceptions.RequestException as e:\n",
    "        print(f'Error fetching posts: {e}')\n",
    "        return None\n",
    "    except ValueError as e:\n",
    "        print(f'Error parsing response: {e}')\n",
    "        return None"
   ]
  },
  {
   "cell_type": "code",
   "execution_count": 5,
   "metadata": {},
   "outputs": [
    {
     "name": "stdout",
     "output_type": "stream",
     "text": [
      "Status Code: 200\n",
      "Fetched 30 posts.\n"
     ]
    }
   ],
   "source": [
    "# Fetch posts\n",
    "page = 1\n",
    "posts = fetch_posts_from_api(page=page)\n",
    "print(f\"Fetched {len(posts)} posts.\")\n",
    "\n",
    "# # Display the first post to verify the structure\n",
    "# if posts:\n",
    "#     print(posts[0])"
   ]
  },
  {
   "cell_type": "markdown",
   "metadata": {},
   "source": [
    "# Search Posts from API"
   ]
  },
  {
   "cell_type": "code",
   "execution_count": 6,
   "metadata": {},
   "outputs": [],
   "source": [
    "# # Function to search posts from API\n",
    "# def search_posts(query):\n",
    "#     try:\n",
    "#         headers = {\n",
    "#             'User-Agent': 'Mozilla/5.0 (Windows NT 10.0; Win64; x64) AppleWebKit/537.36 (KHTML, like Gecko) Chrome/91.0.4472.124 Safari/537.36'\n",
    "#         }\n",
    "#         response = requests.get(search_posts_url, params={'query': query}, headers=headers)\n",
    "\n",
    "#         if response.status_code == 200:\n",
    "#             return response.json()\n",
    "#         else:\n",
    "#             return None\n",
    "    \n",
    "#     except requests.exceptions.RequestException as e:\n",
    "#         print(f'Error fetching posts: {e}')\n",
    "#         return None\n",
    "#     except ValueError as e:\n",
    "#         print(f'Error parsing response: {e}')\n",
    "#         return None"
   ]
  },
  {
   "cell_type": "code",
   "execution_count": 7,
   "metadata": {},
   "outputs": [],
   "source": [
    "# Function to search posts from API\n",
    "def search_posts(keywords):\n",
    "    try:\n",
    "        headers = {\n",
    "            'User-Agent': 'Mozilla/5.0 (Windows NT 10.0; Win64; x64) AppleWebKit/537.36 (KHTML, like Gecko) Chrome/91.0.4472.124 Safari/537.36'\n",
    "        }\n",
    "        response = requests.get(search_posts_url, params={'query': keywords}, headers=headers)\n",
    "\n",
    "        if response.status_code == 200:\n",
    "            try:\n",
    "                return response.json()\n",
    "            except ValueError as e:\n",
    "                print(f'Error parsing response JSON: {e}')\n",
    "                return []\n",
    "        else:\n",
    "            print(f'Error fetching posts: HTTP {response.status_code}')\n",
    "            return []\n",
    "    \n",
    "    except requests.exceptions.RequestException as e:\n",
    "        print(f'Error fetching posts: {e}')\n",
    "        return []"
   ]
  },
  {
   "cell_type": "markdown",
   "metadata": {},
   "source": [
    "# Preprocessing"
   ]
  },
  {
   "cell_type": "markdown",
   "metadata": {},
   "source": [
    "## Query Preprocessing"
   ]
  },
  {
   "cell_type": "code",
   "execution_count": 8,
   "metadata": {},
   "outputs": [],
   "source": [
    "# Load the spacy model\n",
    "nlp = spacy.load('en_core_web_sm')"
   ]
  },
  {
   "cell_type": "code",
   "execution_count": 9,
   "metadata": {},
   "outputs": [],
   "source": [
    "def preprocess_query(query):\n",
    "    doc = nlp(query)\n",
    "    keywords = []\n",
    "    \n",
    "    for token in doc:\n",
    "        if not token.is_stop and not token.is_punct:\n",
    "            # Add named entities and nouns to keywords list\n",
    "            if token.ent_type_ or token.pos_ in ['NOUN', 'PROPN', 'ADJ']:\n",
    "                keywords.append(token.lemma_)\n",
    "    \n",
    "    return keywords"
   ]
  },
  {
   "cell_type": "code",
   "execution_count": 10,
   "metadata": {},
   "outputs": [
    {
     "name": "stdout",
     "output_type": "stream",
     "text": [
      "Extracted Keywords: ['Grab', 'profitability', 'recent', 'news']\n"
     ]
    }
   ],
   "source": [
    "# Example query\n",
    "user_query = \"Tell me about Grab’s profitability and recent news.\"\n",
    "keywords = preprocess_query(user_query)\n",
    "print(\"Extracted Keywords:\", keywords)"
   ]
  },
  {
   "cell_type": "markdown",
   "metadata": {},
   "source": [
    "## Retrieving Articles"
   ]
  },
  {
   "cell_type": "code",
   "execution_count": 11,
   "metadata": {},
   "outputs": [],
   "source": [
    "def preprocess_text(text):\n",
    "    # Remove HTML tags\n",
    "    text = BeautifulSoup(text, 'html.parser').get_text()\n",
    "\n",
    "    # Remove URLs\n",
    "    text = re.sub(r'http\\S+', '', text)\n",
    "\n",
    "    # Handle special characters\n",
    "    text = re.sub(r'&amp;', '&', text)\n",
    "\n",
    "    # Normalise whitespace\n",
    "    text = re.sub(r'\\s+', ' ', text)\n",
    "\n",
    "    # Remove source and citation tags\n",
    "    text = re.sub(r'\\[.*?\\]+', '', text)\n",
    "\n",
    "    return text"
   ]
  },
  {
   "cell_type": "code",
   "execution_count": 13,
   "metadata": {},
   "outputs": [
    {
     "name": "stdout",
     "output_type": "stream",
     "text": [
      "Number of articles found: 30\n",
      "Article 1: Podcast: Rounding up SEA tech news with Momentum Works Sea and Grab recently released earnings results and as always, any financial news regarding the two Southeast Asian giants gets a lot of attention. No wonder then that the first episode of the new Momentum Works podcast focused on the two firms. The venture builder and research firm recently launched Impulso, a podcast that dives into tech trends in Asia. Featuring CEO Jianggang Li, engagement manager Sabrina Chong, and insights lead Saniya Ramchandani, the episode highlights the competition Sea faces in the ecommerce space, as well as stagnating gross merchandise value for Grab. The news roundup also touches on regulations for generative AI, and Luckin Coffee’s attempted comeback. Here are four highlights we picked out from the episode: 4:45 – Why Momentum Works’ analysts estimate that Shopee is operating with a 10% take rate 16:59 – Why Grab will probably achieve its goal of profitability in the fourth quarter of this year 22:40 – Why calls to regulate artificial intelligence from OpenAI’s CEO may be self-serving 30: 50 – Why Momentum Works’ analysts aren’t sure if Luckin Coffee can make it in Singapore\n",
      "Article 2: Paytm stock jumps 11.6% on news of Sharma’s stake purchase Vijay Shekhar Sharma, the founder and CEO of One97 Communications, has entered into an agreement with Ant Financial to buy the latter's 10.30% stake in the Indian company. The value of the 10.30% stake was estimated to be US$628 million as of August 4. The move was announced by Paytm, the payments platform operating under One97 Communications, on Monday. The purchase will be made via Sharma's owned overseas entity, Resilient Asset Management BV. With this, Sharma's ownership of Paytm will increase to 19.42%. Ant's ownership, on the other hand, will drop to 13.5%. The sale would help alleviate pressure from investors, who had been concerned over a potential share sell-off by Ant Group, and address concerns from rising India-China tensions, The Straits Times noted. The stock price of Paytm has since jumped 11.6% to 887 Indian rupees (US$10.7) apiece as of earlier today. In February, it was reported that Ant Group was mulling selling part of its stake in Paytm, which had exceeded 25% at the time. However, sources told Bloomberg that the potential sale was not driven by political reasons. \"I am proud of Paytm's role as a true champion of made-in-India financial innovation and our achievements in revolutionizing mobile payments and contributing to formal financial services inclusion in the country,\" Sharma said in a post. Founded in August 2010, Paytm started by providing prepaid mobile recharges but has since expanded into areas like ecommerce, banking, and insurance. Earlier this year, after the company narrowed its losses from US$94 million to US$47 million, Sharma said its next milestone was to generate free cash flow. See also: Paytm looks to turn things around with focus on cash flow Currency converted from Indian rupee to US dollar: US$1 = 82.7 rupees.\n",
      "Article 3: Indonesia to require Google, Meta to compensate news publishers Indonesia has introduced a new presidential decree that will require digital platforms like Meta and Google to pay news publishers in exchange for distributing their content. The new law will go into effect six months after yesterday's signing by outgoing president Joko Widodo (Jokowi). Dubbed the Publisher Rights decree, it stipulates that digital platforms are responsible for maintaining a healthy news publishing business. Among the ways they can do so include designing a news distribution algorithm that supports quality journalism as well as partnering with news publishers. These partnerships may comprise a paid licensing arrangement, profit sharing, data sharing, or any other agreed type. In an event celebrating Indonesia's national press day, Jokowi noted that the Publisher Rights decree was initiated by media firms themselves, not the government. \"We want journalism that is high quality, journalism that is far from negative content, journalism that educate for Indonesia's development,\" he said. In a statement quoted by CNBC Indonesia, Google touted the importance of access to \"diverse news sources\" as well as an ecosystem that would help both big and small publishers to develop. Over the years, Google and Facebook have become important distribution channels for news. However, this has led to plummeting advertising revenue for publishers. Indonesia's new decree follows those already implemented in Australia and Canada, with several other countries likely to follow suit.\n",
      "Article 4: TikTok faces scrutiny in Malaysia over fake news After TikTok recently shut down its ecommerce feature in Indonesia, the short-video app is now under fire in Malaysia due to an apparent spread of fake news on the platform. Fahmi Fadzil, Malaysia's minister of communication, said in a social media post that TikTok's efforts to comply with the country's regulations are \"unsatisfactory.\" \"I emphasized that TikTok must operate in accordance with Malaysia's guidelines and laws,\" Fadzil said in the post, which came after a meeting with representatives from the social media firm on Wednesday. He added that TikTok acknowledged its shortcomings, blaming it on \"the absence of a representative in Malaysia.\" The company's point person in the meeting was Helena Lersch, ByteDance's Singapore-based vice president of public policy for emerging markets. While the meeting also discussed TikTok Shop, Fadzil did not provide details in his post. However, Malaysia was reportedly considering a similar move to Indonesia's ban of ecommerce transactions on social media platforms. In response to the minister's statement, a TikTok spokesperson said the platform respects local regulations and is committed to \"taking proactive measures to address the issues raised.\" The spokesperson added that the firm has organized follow-up meetings with the Malaysian Communications and Multimedia Commission next week. Besides Malaysia, Vietnam is also probing TikTok's operations due to the presence of \"toxic\" content on the platform. See also: TikTok Shop ban in Indonesia: Who is it really protecting?\n",
      "Article 5: Everything, everywhere, all at once in this newsletterSign up for the Daily Newsletter, sent exclusively to our premium subscribers. We break down the big and messy topics of Asia’s tech and startup community. Get the newsletter in your inbox everyday with a premium subscription. Hello reader, I recently started a new hobby: collecting basketball cards. I’m really not sure why I felt the urge to do so. I joke with my friends that this might be my version of a midlife crisis response, but I’m having a great time so far. I’ve gotten some relatively valuable cards (or “hits” in the hobby’s parlance) such as autographed ones or those of up-and-coming rookies. This adds another hobby to a growing list. I still have a ton of books, shows, and games to get to. But I think it’s a good problem to have, and it’s nice to feel childlike enthusiasm about something, which is hard to experience nowadays as a Responsible Member of SocietyTM. This variety is also present in today’s list of companies that received funding or were involved in M&As. AI-backed financial solutions, spacetech, and DIY meal kits, among others, are all represented. Let’s hope we can all always find new things to get excited about. Have a good weekend, folks. You can find all other important investment deals that happened over the last few days in our weekly funding news wrap-up. Let’s dive into the biggest deals and M&As that recently took place. The biggest deals by country 🇸🇬 Advance Intelligence Group, a Singapore-based company that offers AI-backed financial products and services, closed a US$80 million series E round. The investors were Northstar Group and Warburg Pincus. 🇨🇳 CAS Space Exploration is a Chinese aerospace technology and spacecraft developer. It secured US$73.5 million in series C funding from Guangzhou Industrial Investment and Capital Operation Holding Group. 🇮🇳 India-based BluSmart Mobility is an electric vehicle ride-hailing platform. It locked down a US$42 million series B funding round from BP Ventures. 🇮🇩 Praktis, an Indonesia-based end-to-end supply chain enabler, helps direct-to-consumer brands in various areas such as raw material purchasing, production, fulfillment, and logistics. The firm bagged US$20 million in series A money from East Ventures, SMDV, and Triputra Group. 🇻🇳 BuyMed, a Vietnamese healthtech startup that operates pharmaceutical marketplace Thuocsi.vn, nabbed US$18 million in a series B round from the US International Development Finance Corporation and UOB Venture Management (UOBVM). This followed the US$33.5 million Buymed received from UOBVM, Smilegate Investment, and Cocoon Capital in February. Here’s the complete list of this week’s funding chart: 37 deals worth close to US$420 million. M&As 🇮🇳 Kook, an India-based DIY meal kit platform, was acquired by foodtech firm Pluckk for US$1.3 million in a deal that combined cash and equity. 🇮🇳 UCare Health is an Indian firm that offers corporate wellness solutions. It was acquired by consumer benefits marketplace Thriwe for an undisclosed sum. 🇸🇬 Sunbird Bio, a Singapore-based biotech startup focusing on molecular diagnostics, was acquired by Temasek-backed Glympse Bio. The financial details were not disclosed. 🇮🇳 MyAva is an Indian femtech startup that helps women manage chronic health conditions. It was acquired by healthtech firm Bonatra for an undisclosed amount. Startups that are raising funds Fundraising is hard. To make things slightly easier, we’ve compiled this list of fundraising startups for our subscribers. Do you run a startup that’s raising at the moment or know someone who does? Sign your company up for listing here. 🇮🇳 Black is an Indian-based app that helps users discover independent and purpose-driven brands to shop at. 🇸🇬 MyTravelThru, which hails from Singapore, connects travelers to local transportation providers. 🇲🇾 Jocom is a Malaysian firm that offers a platform for SMEs to list their products to the mass market. You can find the full list of fundraising startups in Asia over here. Killer pitch decks 1️⃣ Bukalapak used this pitch deck to land its seed round The ecommerce major is one of Indonesia’s most prominent tech companies, but it wasn’t always easy to shore up funds. According to Bukalapak co-founder Achmad Zaky, the startup’s seed round pitch deck didn’t go a long way toward raising money. The company only managed to bring in capital about six months after the presentation was created in 2011. 2️⃣ This women-focused firm scored pre-seed funding via this pitch deck Lucy is a mobile app that provides financial support for women entrepreneurs. Officially slated to launch in Singapore in early 2021, the company used this pitch deck to raise a US$365,787 pre-seed round from 18 women investors. The presentation showcases Lucy’s brand characteristics, detailing how the startup is guided by its mission of helping women “who are overlooked, underestimated, and underbanked become unstoppable by leveling the financial playing field.” 3️⃣ An experiential VR startup used this deck to bag US$68 million in series A money Hong Kong-based Sandbox VR offers a futuristic virtual reality experience that allows groups of up to six members to see and physically interact with each other like in the real world. The company used this pitch deck to help it secure US$68 million in its series A round in 2019. The presentation starts with a statement on the disappointments and challenges faced by the VR industry and then chalks out future opportunities in the market. Tech in Asia’s Product Development Conference 2023 Gain valuable insights and strategies for navigating the challenges of product leadership Get ready to learn from the industry’s cream of the crop at the Product Development Conference 2023, which is happening in just a few days. We have great speakers lined up for you including Nihit Nirmal, group chief product officer at Funding Societies Modalku; Manoj Awasthi, chief technology officer at JULO; and Borrys Hasian, a seasoned product design leader. Don’t miss out on their valuable insights - grab your tickets here! Exclusive listicles Lists of most active investors in the region China | India | Indonesia | Japan | Singapore | Southeast Asia List of top-funded startups in Asia China | India | Indonesia | Israel | Japan | Hong Kong | Singapore | South Korea | Vietnam Thoughtful reads 1️⃣ How to handle employee complaints Not all complaints are the same - some are aimed at improving things, while others might even be malicious. This article from Harvard Business Review (HBR) lists down all the types of complaints and shares how managers should deal with them. 2️⃣ The final frontier Spacetech has got to be one of the most interesting verticals, right? Thinking about enabling our exploration beyond the stars is exciting to me, even if it can get very technical really quickly. In this piece, Pitchbook hears from European VCs on the startups in the space (no pun intended) to watch. 3️⃣ Fundraising tips In this wintry economy, I don’t know if there really is a surefire way to get funding, but this article on the Andreessen Horowitz website offers 16 “commandments” to do so. Call me a skeptic, but having 16 steps or tips feels way too much to be that useful. But give it a read and let me know what you think. 4️⃣ The holy grail of product-market fit Some companies go for years without finding product-market fit. It sometimes feels like that’s the goal of every company - as if once that’s achieved, everything else will flow easily. First Round Review explores one firm’s journey to that elusive goal. 5️⃣ AI in the middle We often talk about the upstarts and goliaths in business and how they’re responding to the latest innovations, but we can’t forget the mid-sized companies. Obviously, they’re gonna be affected by the generative AI wave as well, and this HBR piece looks at how they can navigate these new waters.\n",
      "Article 6: Did you expect anything but more Grab news?Sign up for the Daily Newsletter, sent exclusively to our Premium subscribers. We break down the big and messy topics of Asia’s tech and startup community. Get the newsletter in your inbox everyday with a Premium subscription. Hello readers, When scouting for players to sign on Football Manager, a simulation game that I play, my scouts will sometimes report that a player has great potential and good stats across the board but will strongly recommend against making a move for him anyway. That’s when I take a look at his character traits and see that he’s got an unambitious personality or that he struggles to perform in big matches. After all, the ability to perform under pressure can make or break a footballer’s career. Grab, after making its long-awaited public debut last week, is now facing some pressure of its own. The super app ended its first trading day with its share price down over 20%. Today’s premium article looks at what could come next for the Southeast Asian tech giant. Today, we look at: Is it up or down next for Grab’s share price? The series C round of a South Korean online lending startup Other newsy highlights such as some changes among the Alibaba bigwigs and the universal dreams of a Japanese spacetech firm Premium summary Keep on truckin’? Have you ever wanted to try something new but then stumble into a face-plant? Well, tough as it can be, all we can do is try and power through. And, of course, that’s what Grab is going to do after a middling open to its life on the public markets. The sitrep: At the end of this week, Grab will have around 29.2% of its outstanding share capital, or about US$11 billion worth of stock, available for public trading. But here’s the kicker: Another 2.6 billion shares, worth roughly US$23 billion based on recent stock prices, will be released to the public by June. Sword of Damocles? The release of the additional stock will likely put downward pressure on Grab’s market performance, analysts say. “That is huge and will act as an overhang on the stock price,” Brian Freitas, an analyst with Smartkarma, told Tech in Asia. Riding on riding: If Grab can prove that its earnings are resilient despite the challenges faced by its mobility business, that will be one driver to push its share price up in the near term. Read more: Grab shares may drop further as more stocks flood the market Startup spotlight When a lending company gets investment, is it borrowing cash? South Korea-based online lending platform Peoplefund has raised 75.9 billion won (around US$64 million) in a series C funding round. The company claims that this is the largest amount raised by any consumer loan-focused lending platform in South Korea. It funds people, duh: Peoplefund is a platform that connects lenders with unbanked individuals who need to borrow money. It has disbursed more than 1.1 trillion won (around US$980 million) in loans as of October. Hogging the pie: In a statement, Peoplefund claims that it accounted for 57% of the country’s personal loan market share based on disbursed loans. Better, faster: Moving forward, Peoplefund plans to use the fresh money to hire AI engineers and acquire alternative data to upgrade its credit scoring algorithm. Quick bytes 1️⃣ Chinese musical chairs Alibaba Group has announced that Toby Xu will replace Maggie Wu as its CFO in April 2022. Xu, who joined the company from PricewaterhouseCoopers three years ago, has held the title of deputy chief financial officer since July 2019. After the change, Wu will continue to serve as an executive director on Alibaba’s board. At the same time, Alibaba split its digital commerce division into two teams, one to handle its international presence and the other to deal with matters domestically. 2️⃣ IPO > employees, eh? IQiyi, a Chinese video-streaming platform, is letting go of around 20% to 40% of its current workforce in a bid to stem its growing losses. The layoffs come months after iQiyi picked advisers for its planned US$500 million public offering in Hong Kong. 3️⃣ To infinity and beyond Space BD, a Japan-based spacetech startup, has raised over 1 billion yen (around US$9.2 million) from existing shareholders. The new round brings the startup’s total fundraise to 1.9 billion yen (US$16.7 million). Founded in 2017, Space BD provides services for satellite launches, space experiments in microgravity onboard the International Space Station, and sample analyses on ground. Its latest fundraise will boost its satellite launch service expansion and talent recruitment efforts. 4️⃣ Wealth management firm receives some wealth of its own to manage Xen Capital, a Singapore-based wealth management platform, has raised US$7.5 million in a series A round led by Headline Asia, which was formerly known as Infinity Ventures. Xen Capital offers an alternative, zero-upfront-fee client management platform that lets wealth advisors and asset managers transact with clients on their behalf. 5️⃣ Xiaohongshu caught red-handed? Chinese state-run CCTV News reported that domestic social media platform Xiaohongshu is suspected of leaking the private information of minors. In response, Xiaohongshu has apologized for the reported omission in its audit and announced plans to launch a new round of control measures specifically for minors in the near future. 6️⃣ Watch your back, Chuck E. Cheese Engineered Arts, a UK-based designer and manufacturer of humanoid robots, has created a robot that is capable of performing very human-like facial expressions. I, for one, am incredibly creeped out.\n",
      "Article 7: 🇮🇳 Roundup: B2B unicorn Udaan raises $250m, and other newsStartups in India, including Bombay Shaving Company and Living Food have collectively raised at least US$29 million in disclosed funding today from international and local investors. Here’s a snapshot of the fundraising: Here's some important tech news in India today: B2B unicorn Udaan raises US$250 million in debt Udaan has reportedly raised US$250 million through convertible notes and debt, according to an internal email sent by one of the company’s top executives to its employees. However, in the email, the company did not disclose the investors of the debt financing round. Udaan recently named its co-founder Vaibhav Gupta as its CEO ahead of a potential public listing. IPO-bound Delhivery to pour up to $30m into logistics automation firm Delhivery will reportedly invest between US$20 million to US$30 million into Falcon Autotech, which offers intralogistics automation solutions and sortation systems. The delivery firm's investment in Falcon is part of the former's broader strategy to back future-ready hardware solutions. Delhivery also raised US$125 million from Addition in September and is reportedly set to raise another US$500 million via a public listing in March 2022. Borzo buys 90-minute delivery service provider Amsterdam-based Borzo, a same-day intracity delivery service for businesses, has acquired express delivery firm Now for an undisclosed sum. The acquisition will help Borzo penetrate the Indian market and provide more tailored delivery options to its customers. After the deal, Now will remain an independent brand. With its fleet of over 1500 riders, Now delivers nearly 2 million orders per annum for brands like KFC, Pizza Hut, Apollo Pharmacies, Amazon, and other companies. It expects to handle more than 5 million deliveries in 2022. Follow the rest of our India coverage here.\n",
      "Article 8: 🇮🇳 Roundup: Tax regulators target crypto startups, and other newsStartups in India, including Mamaearth and Groyyo, have collectively raised about US$56.6 million today in disclosed funding. Here’s a snapshot of the fundraising: ﻿﻿﻿ See also: A list of India’s unicorns and their early investors Here are some other important tech news from the country today: Tax regulator cracks down on four more crypto exchanges The Directorate General of Goods and Services Tax Intelligence (DGGI) has added Coinswitch Kuber, CoinDCX, BuyUCoin, and Unocoin to its list in an ongoing investigation of cryptocurrency exchanges being used for tax evasion. Mint reported that 700 million rupees (US$9.4 million) have already been traced by DGGI. Last week, a local Goods and Services Tax regulatory body cracked down on WazirX, where they recovered 405 million rupees (US$5.4 million) worth of unpaid taxes, interest, and penalties. Square Yards looks to go public The real estate platform is looking at raising at least 10 billion rupees (US$134.5 million) through an IPO, reported Mint, citing sources. Should its plans go through, Square Yards would be the first real estate startup in the country to go public. Outside of India, it has operations in the United Arab Emirates, Australia, and Canada. Follow the rest of our India coverage here. Currency converted from Indian rupee to US dollar: US$1 = 74.36 rupees.\n",
      "Article 9: India Roundup: Freshworks lists on Nasdaq, and other newsFreshworks raises over US$1 billion in IPO the first Indian software firm to list on the Nasdaq, Freshworks sold 28.5 million shares at US$36 apiece, a premium to a company's projected range of US$32 to US$34 per share. Freshworks' shares jumped 33% to US$48 in initial trade, pushing its market capitalization to about US$13 billion. The listing has also brought gains for about three-fourths of the over 4,300 Freshworks employees who held stock options. Y Combinator backs Karbon Card's US$12 million pre-series A round Investors including Ramp, Rainfall Ventures, Roka Works, and Y Combinator also took part in the financing round. The fintech firm will use the fresh funds to develop its products and in its operations. It is looking to double its headcount to 60 staff members over the next six months. Karbon said it has recorded a 30% rise in revenue since its launch in 2019. The company expects a 35% growth in its revenue in the next eight to 12 months. Sequoia joins US$11.5 million round of health and fitness platform Fittr Fittr raised the sum in a series A financing round co-led by Elysian Park Ventures and Dream Capital, the venture capital arm of Dream Sports. The latest funding will help the fitness startup fuel its expansion plans into new markets, including North America and Singapore. About 30% of the company's overall revenue comes from Australia, Canada, the US, UK, and UAE. \n",
      "Article 10: India Roundup: Zomato co-founder quits, and other news (updated)This is an updated version of the article that was published 2 hours ago. Zomato co-founder quits company over a month after bumper IPO Gaurav Gupta, the co-founder of Zomato, has quit the company to start a \"new chapter,\" he said in an email to the food delivery firm's employees. Gupta, who joined the firm in 2015, was promoted to chief operating officer in 2018 and later to co-founder in 2019. Zomato recently announced it was shutting down its grocery and nutraceutical businesses, both of which were spearheaded by Gupta, according to MoneyControl. IPO-bound PharmEasy acquires Aknamed IPO-bound online pharmacy company PharmEasy’s parent, API Holdings, has acquired a controlling stake in Bengaluru-based healthcare supply chain startup Aknamed in a primary and secondary deal, said an Entrackr report. API Holdings had earlier in June acquired Thyrocare Technologies, one of the country’s largest diagnostics laboratory chains, for over US$600 million. PharmEasy allows users to order medicines and healthcare products online, and book diagnostic tests. Freshworks aims for US$9 billion valuation in US listing Freshworks Inc. aims to raise nearly US$1 billion through a US public listing at a valuation of almost US$9 billion, which will make it the most valuable software-as-a-service (SaaS) startup from India, according to a Mint report. The Tiger Global-backed company was last valued at US$3.5 billion in 2019. The 11-year-old startup filed its pre-listing paperwork with the US Securities and Exchange Commission last month. Valued at US$5.6 billion, Postman, an API (application programming interface) platform, is the most valued SaaS startup from India. Eupheus Learning bags US$10 million funding Lead investors: Lightrock India Stage: Series C Funds used for: Scaling up product portfolio, geographical, and segment reach About the startup: Founded in 2017, it is a B2B education technology firm aiming to bridge the gap between in-class and at-home learning by offering pedagogically differentiated, technology-led solutions in the K12 space. The company claims over 5,500 schools are already using its solutions. Salestech SaaS startup GTM Buddy raises US$2 million Lead investor: Stellaris Venture Partners Stage: Seed Funds used for: Enhancing product capabilities, building go-to-market teams About the startup: Founded in 2020, GTM Buddy is a sales enablement tool that delivers relevant information to sellers based on conversations they have with customers. Health tech startup Medpho closes US$1 million round Lead investor: Cygnus Medicare Group, Probal Ghoshal, chairman of Amar Ujala; Shuchin Bajaj, founder and director of Ujala Cygnus; and Raghavendra Prasad, founder of Project StepOne. Stage: Angel round Funds used for: Expansion, innovation, providing healthcare services to rural and urban consumers About the startup: Founded in 2020, Medpho is aiming to disrupt the current healthcare industry by being a one-point solution for all essential healthcare needs for consumers. \n",
      "Article 11: India Roundup: Snapdeal mulls $400m IPO, and other newsEcommerce retailer Snapdeal reportedly mulling US$400 million IPO The SoftBank-backed firm is currently in discussions with advisors regarding a potential public listing in India. The initial public offering is slated for next year and may push the company's valuation to US$2.5 billion. However, discussions around a listing are reportedly still in preliminary stages and may not ultimately materialize. Fintech firm PhonePe eyes entry into mutual fund business PhonePe is looking to apply for a license to set up its own mutual fund business, its CEO Sameer Nigam said. The payments firm has not disclosed a definite timeline for the application process. The plan to apply the license comes after Zerodha, an online brokerage startup, received in-principle approval from the Securities and Exchange Board of India to set up an asset management company. Mobile ecommerce startup Bikayi lands US$10.8 million in series A round Lead investor: Sequoia Capital India Stage: Series A Funds used for: Product development, acquisition, and increasing hiring in the company. About the startup: Founded in 2019, Bikayi provides small and medium-sized enterprises with a digital storefront, professional features, and tools to help them scale their businesses. Some of the features include a dedicated business coach, catalog listings, shipping facilities, payments, and insights into customer behavior. Health and fitness firm Sugar.fit nets US$10 million in seed money Lead investors: Cure.fit, Endiya Partners, and Tanglin Venture Partners Stage: Seed About the startup: Launched two months ago, Sugar.fit is a fitness firm that uses glucose-monitoring technology to help users observe the real-time impact of food and lifestyle activities on their blood sugar levels. Its program brings together medical experts and deeptech for coaching, personalized analytics, integrated devices, and testing. Sugar.fit is a unit of Cure.fit. \n",
      "Article 12: This deck raised $9m for ex-BBC strategist’s news audio startup﻿ ABOUT Curio offers a curated library of journalism in the form of audio, giving listeners their daily fix of news and analyses. The UK-based company was founded in 2016 by Govind Balakrishnan, who previously worked for the BBC as a strategist, and Srikant Chakravarti, a former solicitor in London. Curio includes content from the likes of The Wall Street Journal, The Washington Post, Financial Times, Wired, MIT Technology Review, and Aeon. The audio stories on the platform can be filtered according to new stories, most played, categories, and publications. Listeners can also discover new tracks on playlists curated bi-weekly by the Curio editorial team. The startup used this pitch deck for its series A round, and it said that it would use the funds to expand into new markets including India, Australia, and South Africa. Fundraising journey 2018: US$2 million in seed funding from Cherry, 500 Global (formerly 500 Startups), and undisclosed private angel investors 2020: US$9 million from a series A round led by Earlybird, with participation from Draper Esprit, Cherry Ventures, and Horizons Ventures How is the deck compelling? The pitch deck is crisp since it mostly contains images and doesn't include too many words. The deck begins with the background story of why Curio was developed and introduces the service that the company provides. On the business side, it shows the month-on-month revenue that Curio makes and how it performs compared to traditional news websites. SOURCE Deck: Failory\n",
      "Article 13: India Roundup: Fintech unicorn Cred bags $251m, and other newsCredit card payment app Cred bags $251m The series E round was co-led by Tiger Global and Falcon Edge, which have both invested in Cred prior. Other investors who participated in the round include Marshall Wace, Steadfast Venture Capital, DST Global, Insight Partners, Coatue Management, Sofina, RTP Global, and Dragoneer. The new funding puts the startup's valuation at US$4 billion, almost doubling from the figure in April when Cred closed its US$215 million series D round. The fintech unicorn says that it has 7.5 million users and a 20% share of credit card bill payments in India. India-focused edtech startup ConveGenius raises $5m The pre-seed funding was led by BAce Capital, Heritas Capital, and 3Lines Venture Capital, as well as by existing investor Michael and Susan Dell Foundation. The Singapore-based company plans to use the fresh funds to launch its conversational platform, ConveGenius AI, in India and other countries. ConveGenius was founded in 2013 by Jairaj Bhattacharya and Shashank Pandey. The company says that its platform has acquired 14 million monthly active users since its launch last year. Social commerce firm Woovly secures $3.6m The investment is part of its series A round, which is expected to reach US$10 million at its final close. Anthill Ventures, Vinners, and Sana Ventures participated in the deal. Launched in 2019 by Venkat J, Neha Suyal, and Hithendra R, Woovly has onboarded over 18,000 users who can earn by reviewing products. PolicyBazaar parent wins IPO application approval Sources said that PB Fintech, the parent company of PolicyBazaar and Paisabazaar, could look to list around Diwali in early November. The company filed its prospectus to the Securities and Exchange Board of India on August 2, seeking to raise 6,017 crore rupee (around US$809 million). SoftBank Vision Fund Python has a 9.75% stake in the company, and it is expected to cash in around US$250 million worth of shares. \n",
      "Article 14: China Roundup: TikTok hits 1b monthly users, and other newsTikTok hits 1 billion monthly active users, surpasses 3 billion downloads The short-video platform has reached 1 billion monthly active users worldwide, gaining 300 million of them since June 2020 alone. The ByteDance-owned app has also hit 3 billion downloads, according to research firm Sensor Tower. This growth comes amid privacy concerns surrounding the Chinese-owned company. A ban in the US was once on the table due to alleged national security threats. Alibaba begins autonomous truck development Alibaba's Damo Academy, along with logistics unit Cainiao, has started working on autonomous truck development. Small-scale testing has already begun with the two units, with large-scale deployment eyed in three years. Alibaba is also weighing partnerships with makers of traditional automobiles in the future for the project. Tech giants eye robot courier push Alibaba, Meituan, and JD.com will be adding over 2,000 robot couriers between their delivery fleets by 2022. Covid-19 has forced firms to speed up their exploration and development of cost-efficient contactless delivery solutions. Companies in China have been considering using robot couriers since the country was hit by a labor crunch in 2013. \n",
      "Article 15: India Roundup: Pine Labs raises US$100 million, and other news (updated)Update (Sept. 16, 8:30 p.m.): Added news about Livspace, Byju's and Ayu Health Pine Labs appoints Wall Street bankers as advisors for IPO Pine Labs, a digital payments and merchant commerce firm focused on India and Southeast Asia, announced that Wall Street investment banks Morgan Stanley and Goldman Sachs will be its advisors for its initial public offering in the US, according to a report by The Economic Times. The company has also raised US$100 million from Invesco Developing Markets Fund, said a TechCrunch report. Earlier this year, it raised US$600 million at a US$3.5 billion valuation. It offers payment terminals, invoicing tools, and working capital for merchants. Livspace to invest US$50 million in retail expansion The home interior and renovation platform plans to invest US$50 million to rapidly expand its business and grow its team overseas. The company plans to expand its services to 80 new markets, including 60 cities in India and 20 cities across the Asia-Pacific region. To support its expansion plans, Livspace will also onboard over 1,000 new design entrepreneurs across India. Byju’s goes shopping again, buys US-based coding platform Continuing its acquisition spree, edtech behemoth Byju’s has acquired Tynker, a K-12 creative coding platform based in the US. Tynker’s platform is used by over 60 million kids and 100,000 schools in 150 countries, according to the company. This is the third major acquisition by Byju’s in the US after Epic and Osmo. Drone industry gets shot in the arm with US$16 million fund allocation The Indian government has announced that it will support the country's drone manufacturing industry by allocating US$16 million over the next three financial years for production-linked incentives focused on the sector, said an Entrackr report. According to government estimates, the country's drone manufacturing industry is likely to grow from US$8 million in the financial year ended (FYE) March 2021 to over US$120 million in FYE 2024. For startups to be eligible for the scheme, they must have an annual sales turnover of nearly US$270,000. Agritech startup BharatAgri secures US$6.5 million funding Lead investor: Omnivore Other investors: India Quotient, 021 Capital Stage: Series A Funds used for: Geographical expansion and product refinement About the startup: Founded in 2017, BharatAgri offers an AI-based agronomy service on a paid subscription basis, which increases farmer income through the systematic implementation of scientific farming techniques. Ayu Health closes US$6.3 million round Lead investors: Vertex Ventures, Stellaris Venture Partners Stage: Series A Funds used for: Expansion of hospital network, creation of new technology solutions About the startup: Ayu Health enables its network of hospitals with technology to maintain high clinical standards and provide a better patient experience at an affordable cost. \n",
      "Article 16: India Roundup: Byju’s nears another edtech acquisition, and other news (updated)This is an updated version of the article that was published 4 hours ago. Byju’s eyes acquisition of another coding-based platform Edtech startup Byju's is close to acquiring Tynker, a US-based coding platform for kids, making it the latest in a series of acquisitions to consolidate its leadership in the K12 segment, said a MoneyControl report. Sources said the deal size could be up to US$100 million. This is the company’s second acquisition in the coding space after WhiteHat Jr last year. Byju’s has spent over US$2 billion in acquisitions this year alone. Zomato shuts down grocery delivery, nutraceutical businesses Newly listed food delivery giant Zomato has announced plans to shut down its grocery delivery business. The company began the pilot for the delivery service in a few markets in July, and it will end the pilot on September 17. According to Zomato, the service had moderate success and faced a few challenges, including frequent changes in inventory, said The Economic Times. Zomato also recently invested over US$100 million in Indian e-grocer Grofers. The company has decided to shut down its nutraceutical business as well. Zomato ventured into nutraceuticals last year by launching health and fitness products. Walmart-owned Flipkart’s GMV likely to cross US$20 billion Walmart-owned Flipkart Group clocked in a gross merchandize value (GMV) of around US$15 billion in 2020 and is currently on an annualized GMV run rate of US$23 billion, reported The Economic Times, citing sources. Around US$20 billion of the projected GMV will likely be from Flipkart, with the rest coming from the company's fashion portal Myntra. According to a report from wealth management firm Bernstein, Flipkart achieved a GMV of around US$12.5 billion last year on a standalone basis, around US$1 billion higher than main rival Amazon. Beauty products platform Purplle eyes US$500m valuation Beauty products marketplace Purplle is in talks to raise US$50 million to US$75 million, valuing the company at over US$500 million, said a MoneyControl report, citing sources. Investors who could come on board include Norwest Venture Partners, Kedaara Capital, Venturi Partners, and South Korea’s Mirae. Purplle had earlier raised US$45 million in March, valuing the startup at US$300 million. Ola to employ 10,000 women at EV factory Ride hailing giant Ola’s Futurefactory, will be run entirely by women, which will employ over 10,000 people, making it the world’s largest women-only factory, Ola Chairman and Group CEO Bhavish Aggarwal announced in a blogpost. This is the first in a series of initiatives Ola is undertaking to create a more inclusive workforce and provide economic opportunities for women across the board, it said. The Ola Futurefactory is being built on a 500-acre site in Tamil Nadu, India. At a full production capacity of 10 million vehicles annually, it will be the world’s largest two-wheeler factory, claims the company. Pine Labs converts to a public company IPO-bound company Pine Labs has been renamed from Pine Labs Pte to Pine Labs Limited, indicating that the company’s IPO preparation has started to gather momentum, according to an Entrackr report. Sources said the company which provides digital payments and commerce solutions to merchants is likely to list in the US in the next 10-12 months. Another report said the company is eyeing a US listing at a valuation of US$5 billion. \n",
      "Article 17: China Roundup: Augmented reality firm raises $42m, and other news Augmented reality startup HiAR bags US$42 million Lead investor: CITIC Private Equity Funds Management Other investors: Jadex Capital, Grand View Capital, and THG Ventures Stage: Series C About the startup: Founded in 2012, HiAR produces hardware and software for augmented reality applications and use cases. Ximalaya withdraws US public listing plans The audio-sharing platform is the latest Chinese tech firm to shelve its plans of going public in the US. In an earlier prospectus, Ximalaya disclosed that it had an operating income of US$628 million for 2020. China plans to propose new rules that would ban companies with large amounts of sensitive consumer data from going public in the US. Tencent, iQiyi ease viewer restrictions Tencent Video and iQiyi have said they will change membership features following criticism from the Shanghai Consumer Protection Committee. Both platforms offer VIP memberships that charge viewers for the privilege of watching episodes ahead of their scheduled releases. An iQiyi customer won a case against the streaming platform in 2020. But it would take the player more than a year to act, given the recent rise of state-initiated crackdowns on China's tech giants. \n",
      "Article 18: India Roundup: Sequoia joins HomeLane’s $50m round, and other newsInterior design startup HomeLane bags US$50 million Lead investor: IIFL AMC’s Late Stage Tech Fund, Oman India Joint Investment Fund, and Stride Ventures Returning investors: Pidilite, Evolvence, NuVentures, Sequoia, and Accel Stage: Series E Funds used for: Expansion into newer markets, investment in tech About the startup: Founded in 2014, HomeLane provides tech-enabled interior designing services. It has served more than 20,000 customers across India to date. With the latest round, the startup has raised more than US$104 million. Employee benefits firm Nova nets US$10 million in series A money Lead investor: Susquehanna International Group and Bessemer Venture Partners Returning investors: Multiply Ventures, Better Capital, and Titan Capital Stage: Series A Funds used for: Expanding teams across verticals, including engineering, sales, and product management, among others About the startup: Nova Benefits is an employee wellness platform, which has 100,000 users. The startup works with more than 150 companies, including Dream 11, CoinDCX, Snapdeal, Zenoti, and Yulu Bikes. Taobao-like social commerce firm Coutloot banks US$8m in new funding Lead investor: Amoeba Capital Other investors: SOSV, 9Unicorns, Astarc Ventures, and Venture Catalysts Stage: Pre-series A Funds used for: Launching new services for retailers About the startup: India-based Coutloot aims to build an online buying-and-selling platform along the lines of Alibaba's Taobao. The five-year-old startup says its platform provides business opportunities to more than 500,000 offline retailers, mom and pop stores, and street hawkers, among others. UpGrad co-founder Ronnie Screwvala to invest in Lido Learning Edtech startup Lido Learning will soon raise US$5.5 million from Ronnie Screwvala and the ZNL growth fund, Entrackr reported. Screwvala will pump US$5 million into Lido Learning, while ZNL will chip in with the rest. Screwvala had last invested in Lido Learning in November 2019, and was its second-largest shareholder after the startup's founder Sahil Seth, as of October last year. Edtech startup Clever Harvey bags US$1.5 million in pre-series A funding Lead investor: TechNova Ventures Returning investor: Education Catalyst Fund Other investors: Multiply Ventures and Tom Varkey, partner at Stonehill Capital Management Stage: Pre-series A Funds used for: Launching new programs and scale up its products About the startup: The Mumbai-based business is the direct-to-consumer division of career accelerator Callido Learning. Clever Harvey provides educational programs that span business functions such as marketing, technology, and strategy. Biotech startup immunitoAI raises US$1 million in seed money Lead investor: Pi Ventures Returning investor: Entrepreneur First Stage: Seed Funds used for: Product development and forming partnerships About the startup: Founded in November 2020, immunitoAI has an AI-driven software that designs and screens the best antibody candidates for a given target antigen. The company hopes its tech will help increase the discovery of antibodies and make targeted therapy a norm in the future. GameEon Studios raises US$320k from Mumbai Angels Network GameEon Studios, a Mumbai-based gaming startup, will use the fresh funds to set up a stronger distribution network for its mobile games. The startup also plans to hire talent for its upcoming computer game. The seven-year-old firm has developed more than 150 games to date. It is working on a story-based, open-world game that it said will offer graphics and gameplay of an international level. Edtech firm OckyPocky raises seed funding OckyPocky has raised an undisclosed sum in seed funding from and Udaan co-founder Sujeet Kumar and the SucSEED Indovation Fund. The four-year-old edtech startup offers an interactive learning platform and focuses on promoting English-language learning among Indian kids. The company plans to use the freshly raised capital to further grow its repository of content for a wider vernacular language-speaking audience. \n",
      "Article 19: India Roundup: Gaming startup GetMega bags $15m, and other newsReal-money gaming startup GetMega secures US$15 million in new funding Lead investor: Hashed Venture Fund Returning investors: Nexus Ventures, Accel India Stage: Series B About the startup: Founded in 2018, GetMega allows users to play games such as poker and carrom with real cash. The company had previously raised US$9 million in a series A round, Entrackr reported. DIY startup Dukaan nets US$11 million in pre-series A funding Lead investor: 640 Oxford Ventures Other investors: Snow Leopard Ventures, Lightspeed Partners, Matrix Partners India, HOF Capital, Old Well Ventures, LetsVenture, 9Unicorns, and individual investors like Oyo CEO Ritesh Agarwal and Nothing co-founder Carl Pei. Stage: pre-series A Funds used for: Operational activities and expanding partnerships to increase Dukaan's merchant base. About the startup: Founded in 2020, the startup is a no-code platform that aims to make it easier for anyone to start an ecommerce website and scale it. The startup said it has facilitated more than 1.5 million in transactions to date. Info Edge Ventures leads Geniemode’s $2.25m seed round Lead investor: Info Edge Ventures Other investors: Zomato CEO Deepinder Goyal, Cred founder Kunal Shah, and others Stage: Seed About the startup: Geniemode is a business-to-business, cross-border sourcing and supply chain firm. The startup said its platform has seen “impressive” adoption from buyers across Mexico, India, the US, and the UK within five months of its launch. Healthtech firm Biddano bags US$2 million Lead investor: Pinterest and Coinbase board member Gokul Rajaram Returning investors: JPIN, Venture Catalysts UK New investors: Venture Catalysts and AngelList Stage: Pre-series A Funds used for: Improving Biddano's supply chain platform and customer experience, develop new products, and hire more talent across verticals About the startup: Founded in 2016, the startup provides a simplified order management platform for chemists and hospitals. It serves more than 20,000 pharmacies in India and aims to increase this number to 100,000 in the next 12 months. Deeptech SaaS startup NeuroPixel.AI lands US$825k in seed funding Lead investor: Inflection Point Ventures Other investors: Entrepreneur First, Huddle, Dexter Angels, and Rishaad Currimjee, CEO of Currimjee Jeewanjee Stage: Seed Funds used for: Scaling up research and development to bring its product to production from beta About the startup: The one-year-old startup NeuroPixel leverages AI to help online fashion stores with services such as virtual try-ons. The company said its solution can help businesses reduce cataloging spend by 30%. Edtech firm Vidyakul raises US$500k in bridge round Lead investor: We Founder Circle Other investors: JITO Angel Network and Thinkuvate Stage: Bridge Funds used for: Team expansion and platform development About the startup: Founded in 2018, Vidyakul is an edtech platform that offers lessons in vernacular languages. The platform currently supports four languages. So far, it has onboarded 1 million students across 10 states in India. \n",
      "Article 20: India Roundup: Teachmint eyes $70m raise and other funding newsEdtech platform Teachmint reportedly in talks to raise over US$70 million Investors: New and existing investors, including Learn Capital and Lightspeed Venture Partners Stage: Unspecified About the startup: Founded in May 2020, Teachmint enables offline tutors to digitalize their classrooms and engage with existing students online and reach out to more users. The startup also launched its Teachmint for Institute, a platform for educational institutions to conduct and monitor online classes. The new funding round may push the company's valuation to US$500 million. Spiritual-tech company AppsForBharat nets US$10 million in series A money Lead investor: Elevation Capital Other investors: Sequoia Capital India, Beenext, Matrix Partners India, and other angel investors Stage: Series A Funds used for: Creating intellectual property, building products, and hiring employees across product, data, and engineering teams About the startup: Incorporated in November 2020, AppsForBharat aims to develop mobile and web-based apps that are designed to help users cater to their spiritual and devotional needs. the startup also raised US$4 million in its seed funding round, which was co-led by Sequoia Capital India and Beenext last month. Investment platform Dezerv lands US$7 million in seed round Lead investor: Elevation Capital and Matrix Partners India Other investors: Whiteboard Capital, Blume Founders Fund, and other angel investors Stage: Seed Funds used for: Ramping up hiring and launching and scaling its technology platform. About the startup: Established in April 2021, Dezerv provides an integrated portfolio approach to investment. The strategy helps users maximize returns while limiting the downside. The platform currently offers only high-net-worth individuals a mixed portfolio and unlocks access to new asset classes, which include high-yielding bonds and emerging high-growth startups. Home decor startup Kraftinn bags undisclosed amount in seed round Investors: North Eastern Development Finance Corp Venture Capital Stage: Seed Funds used for: Expanding inventory and recruiting for teams involved in design, marketing activities, sales, and distribution. About the startup: Founded in 2015, Kraftinn offers products including lamps, storage utilities, garden accessories, home accessories, and office accessories. Its product line spans six categories and includes over 50 products. It aims to blend traditional and modern designs, weaves, patterns, materials, and processes. \n",
      "Article 21: Say hi to Token Issue, Tech in Asia’s crypto newsletterWelcome to Token Issue! Delivered every Friday, this free newsletter breaks down the biggest stories in Asia’s crypto scene and beyond. Sign up here to receive future newsletters. Hi there, Lately, crypto has become something of a hobby for me. There’s nothing quite like its intoxicating mix of tech, finance, and economics. It’s already leaving an imprint on the masses, inspiring hate and love in equal measure and serving as fertile soil for both cynical scammers and sincere technologists. Blockchain, crypto, Web3, DLT … whatever you choose to call it, this industry has become something we can’t ignore. Whether it eventually flames out or becomes the best thing since sliced bread, I want to be a part of it. I’m no engineer, so unpacking and analyzing this movement will do. This is why we’ve ramped up our crypto coverage and formed a dedicated team for it. It’s also why - after much procrastination - we’re launching this newsletter, which serves as your guide to our coverage as well as the hottest topics in crypto. Our approach is simple: We’re not here to shove Web3 down your throats. We want to cover the good, bad, and ugly of the space in language that’s accessible to non-crypto folks. For our debut issue, we’ll talk about Three Arrows Capital, the mushrooming of new Ethereum killers, and more. We’ll also discuss whether Helium, a highly touted Web3 project, is just a load of hot air. Let’s dive in. -- Terence (Note: Token Issue will be on hiatus next week, but will resume the following week.) The big story Mission impossible: Recovering 3AC’s missing assets The collapse of 3AC has left piles of digital assets for the bankruptcy court to comb through. Lawyers tell Tech in Asia that this is the first major liquidation involving massive volumes of cryptocurrencies. This means that recovering the funds will require using techniques that are still nascent. In this story, Scott Shuey unpacks the challenges involved in this monumental task and why it might turn out to be mission impossible. ⭐ To the stars A look at what’s pushing Web3 forward. How many Ethereum killers does the world need? It’s funny how Ethereum remains entrenched as the world’s no. 2 blockchain despite many attempts to unseat it. Solana, Avalanche, and BNB Chain have emerged as viable and functional alternatives that are improving all the time. And yet more Layer 1 blockchains are coming up. Aptos, a team consisting of the programmers behind Meta’s defunct Diem blockchain, has raised US$150 million to bring the project back to life. According to CoinDesk, this brings Aptos’ total haul to US$350 million. That’s a crazy amount, considering it probably hasn’t made a single cent in income. (Just another day in the crypto world, I suppose.) Why have investors like PayPal Ventures, Andreessen Horowitz, and yes, even the defunct Three Arrows Capital, gone gaga over this? It’s because Aptos introduces a smart contract programming language called Move, according to a blockchain coder. Move promises to improve productivity for coders by 3x to 5x compared to Solidity, Ethereum’s smart contract scripting language. Aptos isn’t the only new kid in town. Months ago, we covered the launch of Oasys, a gaming-focused blockchain backed by Japanese gaming bigwigs. Nor is Aptos the only Diem-based project around. With its Sui blockchain, Mysten Labs has recently raised an eye-popping US$200 million in funding. But Ethereum probably isn’t going away, which means its lesser rivals may become ghost towns. A bevy of scaling solutions are letting people transact cheaply on top of Ethereum. A new one to watch out for is AltLayer, which has raised funds from an enviable list of investors to build a service that lets decentralized apps boost transaction capacity on-demand. We may be entering another phase of infrastructure-building in Web3 that could in turn lead to a new wave of crypto apps. 🌙 To the moon Tokens, NFTs, and yield generators we’re noticing. 1️⃣ Orion Protocol: Having too many blockchains around can be a headache for users. Orion solves this by providing a simple interface to use decentralized finance (DeFi) services on various chains. Holders of its token, Orn, can earn a cut of the platform’s revenue. It can also be used to pay for trades at a discounted rate. 2️⃣ Solace: Solace is a DeFi insurer that automates the quotation and claims processes. By bonding it with your funds, you’ll get Solace tokens that entitle you to a share of the platform’s income. Bonding is how it raises underwriting capital. Do check out our deep dive into crypto insurance and our list of key players in the space. 🌏 Back to earth The week’s biggest roadblocks. The “prize” of regulating crypto It’s been a rough week for Coinbase, with its shares tumbling more than 10% after the Securities and Exchange Commission (SEC) put the largest crypto exchange in the US in its crosshairs. A greater tug of war is at play, though. It seems that the SEC and Commodity Futures Trading Commission (CFTC) are tussling over the right to regulate crypto. Fortune is couching this as a matter of pride - whoever prevails gets the “prestigious task” and “prize” of regulating crypto. But it's a philosophical fight as well. A statement released by CFTC appears to criticize the SEC for trying to claim jurisdiction over crypto via enforcement actions. “Major questions are best addressed through a transparent process that engages the public to develop appropriate policy with expert input,” it reads. It appears that regulators across the world are far from agreeing on how to treat crypto. China has prohibited it, India wants to ban it for the umpteenth time, and the Philippines appears to be keeping its doors open. Singapore, meanwhile, is mulling adding more rules to restrict retail crypto trading, and it plans to do so “in line with international regulators.” But given the lack of consensus, all I can say is: Good luck figuring that out. Still a Ponzi scheme The latest Web3 and crypto takedowns. “Helium, often cited as one of the best examples of a web3 use case, has received US$365 million of investment led by A16z. Regular folks have also been convinced to spend US$250 million buying hotspot nodes, in the hopes of earning passive income. The result? Helium's total revenue is US$6,500 per month.” - Liron Shapira, entrepreneur Helium has basically built a decentralized network for 5G and IoT devices. The network professes to generate close to US$2 million in data credits revenue a month. Here’s the problem: People are buying its tokens thinking that Helium is seeing a lot of usage from actual network users. But it turns out the vast majority of the credits have been spent on setting up new hotspots and transferring tokens between wallets. So instead of being a proper Web3 use case, it has turned into a Web3 product searching for a use case. That’s a huge difference. Helium’s founder has since responded to the criticism. More to chew on Essential news and views. 1️⃣ Unstoppable Domains raises US$65m to reach unicorn status: Imagine owning your own web domain name as an NFT, with no renewal fees. That’s what the company promises, and you can bet NFT domain-name squatting will be a thing. The round was led by Pantera Capital, with other investors includingSpartan Group, CoinGecko, and Ethereum-scaling platform Polygon joining in. 2️⃣ Singapore-based game developer raises $10m for Web3 projects: Mighty Bear Games consists of veterans from Ubisoft, Disney, LucasArts, and King. Polygon is an investor in the round. 3️⃣ South Korean prosecutors raid home of Terra co-founder Daniel Shin: Offices of crypto exchanges, as well as that of Shin’s Terra-linked fintech firm Chai, were also raided. Tech in Asia found out earlier that Terra’s highly touted partnership with Chai wasn’t all roses. 4️⃣ What the “dollar milkshake theory” means for crypto: The US dollar is sucking liquidity from the world, and that includes crypto, too. That’s all for this issue - we hope you liked it. WAGMI!\n",
      "Article 22: What does carbon neutrality have to do with funding news?Every day, 100k+ smart people read our newsletter. You can sign up here. Hello readers, In case you haven’t heard, Tech in Asia has achieved carbon neutrality - and just in time for Earth Day this week, too. This wasn’t something that just happened. Over the past few months, our monthly townhalls included updates from the management team about how we’d been working hard towards going carbon neutral, why it’s so important that we do so, and how we can contribute in our individual capacities. “But Nat,” I hear you thinking, “What’s that got to do with investments, acquisitions, and all the other stuff we usually read about on the FOMO Saturday newsletter?” Well, I’m just really proud to be working for a company that takes its impact on the world so seriously. But also, while it’s great that a whopping US$3.1 billion in funding went to 141 startups this week, it’s important to know what that money is doing for humanity - and that includes those who will be here long after we’re gone. After all, isn’t making the world a better place the whole point of innovation? You can find all other important investment deals that happened in the last few days in our weekly funding news wrap-up. Let’s dive into the biggest deals and M&As that recently took place. BIGGEST DEALS BY COUNTRY 🇨🇳 Polestar Motors: The Chinese electric-vehicle maker raised US$550 million in strategic investments from Chongqing Chengxing Equity Investment, SK Holdings, Zibo Financial Holdings, and Zibo High-Tech Industry Investment. 🇮🇳 Swiggy: The India-based food-ordering and delivery company bagged US$450 million from SoftBank Vision Fund in its series J funding round. 🇮🇩 Bukalapak: The Indonesian ecommerce platform scored US$234 million in series F money from BRI Ventures, Emtek Group, GIC Private Limited, Microsoft, Naver, and SC Ventures. 🇰🇷 Korea Credit Data: The South Korea-based fintech startup got US$36 million from GS Holdings, KB Kookmin Bank, and Pavillion Capital in its series B funding round. 🇮🇱 Perception Point: The Israel-headquartered cybersecurity firm raised a series B funding round worth US$28 million from NGP Capital, Pitango Venture Capital, Red Dot Capital Partners, and State of Mind Ventures. Here’s the complete list of this week’s funding chart: 141 deals worth over US$3.1 billion. M&A'S 🇮🇳 Ubico Networks, an India-based provider of neutral host, in-building wireless infrastructure, was acquired by Morgan Stanley-backed iBus Networks in an all-cash deal worth US$13 million. 🇮🇳 Indian ecommerce firm Flipkart has acquired local travel-booking portal Cleartrip for an undisclosed sum in a bid to strengthen its overall offerings. 🇰🇷 South Korean social networking platform Class101 merged with local DIY hobby kit shopping platform Hobby in the Box. 🇮🇳 India-headquartered esports platform GamingMonk was acquired by Mobile Premier League for an undisclosed sum. KILLER PITCH DECKS 1️⃣ This fintech startup’s pitch deck helped it raise US$50 million US-based Brex offers business credit cards and cash management accounts to tech firms. In 2018, the company used this pitch deck to raise US$50 million in series B funding from Y Combinator Continuity, Ribbit Capital, and former Visa CEO Carl Pascarella as well as PayPal founders Peter Thiel and Max Levchin. The deck starts off by introducing Brex’s core team and current investors and then continues with a discussion of the issues that the company wants to address. 2️⃣ A music-learning app secured US$510,000 in crowdfunding via this deck Iceland-based Mussila helps children learn how to play the piano by teaching them how to recognize instruments and rhythms through gamified lessons on its application. The company used this pitch deck for a crowdfunding campaign last year and obtained US$510,000. The deck is simple and tidy, opening with an introduction of Musilla’s business and team, and then points out the challenges in education in the current edtech landscape. 3️⃣ A neobank for migrant workers used this deck to land a US$20 million series B round Israeli fintech startup Rewire develops cross-border online banking services for migrant workers worldwide. It used this pitch deck to obtain US$20 million in series B funding from Viola Group, AME Cloud Ventures, Renegade Partners, Moneta Capital, OurCrowd, Glilot Capital Partners, and Opera Tech Ventures. The deck is finely designed and has a great arrangement, with a cover slide that clearly states what kind of service Rewire provides. You can find more killer pitch decks here, including those produced by Shopback, Bukalapak, LinkedIn, Coinbase, and Revolut. LIVE EVENT Making sense of ESOPs Imagine you received two job offers from companies that you’re passionate about. Company A is a multinational corporation that offers a cushy paycheck, while company B, a fast-growing startup, offers a much lower pay that comes with something different: an employee stock option plan (ESOP). Which would you choose? For some, they might jump on the first option. But for others, the second option looks much more attractive because of the growth potential and the possibility that the startup may exit one day. Using ESOP is a popular way to supplement employees’ remuneration packages in startups while still being able to attract, motivate, and retain tech talents. But implementing ESOPs is not as easy as it seems for early-stage Southeast Asian startup founders. How exactly do you come up with a solid ESOP structure to attract and keep talents? How much equity are investors comfortable with issuing as ESOPs? What happens when your startup finally exits? We answer all these and more at Tech in Asia Live event, Decoding ESOPs in SEA, with Ravi Ravulaparthi, CEO and co-founder of Qapita. As a Core and Live subscriber, you can RSVP for free and dive into the complicated world of ESOPs and have all your questions answered today. EXCLUSIVE LISTICLES Lists of most active investors in the region China | India | Indonesia | Japan | Singapore List of top-funded startups in Asia China | India | Indonesia | Japan | Hong Kong | Singapore | Vietnam THOUGHTFUL READS 1️⃣ Shareholders are urging their companies to disclose their climate risk It seems that investors value higher transparency with regards to climate risks - and that’s great. This Harvard Business Review article discusses new research about this trend and why it’s a huge deal - not just for companies, but for everyone. 2️⃣ The state of diversity across the board It’s a well-known reality that the tech and innovation scene is largely male-dominated. However, it is something that we should be looking to change, and US-based venture capitalist Fred Wilson penned his thoughts on the matter in this blog post. 3️⃣ The next big thing in AI In 2016, world-class Go champion Lee Sedol was stumped by the move of his opponent, an AI called AlphaGo. The move was so strange and unconventional that Lee took nearly 15 minutes to formulate his response. This piece on Harvard Business Review discusses how the same type of AI that powered AlphaGo could be the next big thing. 4️⃣ Want to create a more caring culture? Here’s how “Chief people officer” isn’t a C-level role you hear about every day. But that doesn’t mean that the role isn’t valuable, especially if you want to build a caring company culture. Mark Frein, who holds that title at a number of startups, shares some ideas on how organizations can build a more caring culture in this First Round Review piece. 5️⃣ Founders and investors: Who works for whom? Eniac Ventures founder Hadley Harris believes that investors should consider themselves as employees of the founders they back - not the other way around. His tweet on the topic stirred interesting discussions on the Twittersphere, with some founders recalling instances when they knew that a VC wasn’t right for them because of that exact mindset. If you want to receive this quick analysis of our most prized content straight in your inbox every day, then make sure you're subscribed to our newsletter.\n",
      "Article 23: China Roundup: Tencent’s Pokemon Unite hits record downloads, and other newsTencent's Pokemon Unite hits record downloads despite tech crackdown The multiplayer online battle arena game (MOBA), developed by Tencent and Nintendo, became the game with most downloads in more than 62 countries. It succeeded to achieve that on September 21, the first day of its launch. However, the title hasn't received a license or a release date, as the Chinese government has slowed its approval for new video games. Tencent Video, iQiyi, Youku drop feature to fast-track episodes Previously, users could pay an additional US$0.5 to watch an episode of a TV series on these platforms before it was officially broadcast. Nearly 60% of television dramas and 30% of popular online dramas provided these fast-tracking services from January 2020 to August 2020, according to a report by the Supervision Center of China's State Administration of Radio and Television. However, the fast-tracking feature soon came under fire after some users complained that it was unfair to users who had already paid membership fees. \n",
      "Article 24: India Roundup: B2B unicorn Udaan to raise $537m, and other newsUdaan in talks to raise US$537 million for expansion Business-to-business unicorn Udaan will reportedly close its latest funding round worth 40 billion rupees (US$536.5 million) within the next few weeks. The latest financing round comes amid a boom in the number of retailers and wholesalers on the platform. If the deal goes through, Udaan will be valued in the range of US$4.5 billion to US$5 billion. The startup recently named its co-founder Vaibhav Gupta as CEO ahead of a potential public listing. Zostel looks to put Oyo’s IPO plans on hold Hospitality startup Zostel is reportedly planning to appeal to the Securities and Exchange Board of India (SEBI) to put Oyo's US$1.2 billion public listing on hold. Zostel had approached the Delhi High Court alleging that Oyo had violated a binding agreement for a buyout deal that was inked six years ago. Zostel said it fulfilled its obligations under the deal and transferred its business to Oyo but did not receive a 7% stake in the hotel chain in return. After a high court hearing slated for October 7, Zostel is also expected to send a letter to SEBI regarding the botched acquisition deal. UpGrad eyes US$500 million annual revenue run rate by March Edtech unicorn upGrad said its annual revenue run rate (ARR) had hit US$210 million in September, and that the company was on track to hit an ARR of US$500 million by March 2022. The firm added that it expected to close certain global deals in the coming months. In August, upGrad raised US$185 million from Singapore state investor Temasek and others at a valuation of US$1.2 billion. VC firm that backed Lenskart targets US$150 million second fund Epiq Capital is reportedly looking to invest in growth-stage startups via its second fund, which will likely raise half its capital from domestic sponsors, and the rest from international sponsors. The second fund will have an average investment ticket size of US$10 million to US$20 million. Epiq has previously invested in companies like Lenskart, Cure.Fit and Dailyhunt through its first fund. Digital consulting firm Kaar Technologies raises US$4 million in venture debt Lead investor: BlackSoil Capital Funds used to: fuel the company's expansion into the US. About the startup: Founded in 2005, Kaar Technologies offers consulting, implementation, and support based on SAP (Systems Applications and Products in Data Processing) enterprise software solutions to firms across the globe with the aim to improve their business processes. Cred founder joins US$1.3 million round in credit card service firm Hyperface Lead investors: Cred founder Kunal Shah, Better Capital, GFC Stage: Pre-seed Funds used to: strengthen the company's tech platform, launch card programs, and ramp up hiring. About the startup: Founded in February, Hyperface simplifies launching a credit card product for fintech companies, ecommerce firms, and neobanks that are looking to embed financial products into their mobile apps. Online community for older adults, Evergreen Club, raises fresh funds Lead investor: RPG Ventures Stage: Seed Funds used to: scale the company's operations, expand its suite of offerings, and invest in marketing activities. About the startup: Founded in January, Evergreen Club aims to cater to the emotional and mental well-being of the elderly by providing them with access to over 1000 sessions including yoga, meditation, dance therapy, gardening, cooking, arts and crafts, and karaoke. Currency converted from Indian rupees to US dollar: US$1 = 74.57 rupees.\n",
      "Article 25: China Roundup: Tesla rival Nio expands into Norway, and other newsTesla rival Nio makes Norway debut with flagship SUV Carmaker Nio has launched ES8, its flagship sports utility vehicle, in Oslo as part of the company's plans to expand into Europe. Nio also plans to establish its first service and delivery center in Oslo this month. It will also build 20 battery swap stations, which will cover the country's five biggest cities and major highways, by the end of 2022. Other companies that have started selling or plan to sell cars in Europe include Aiways, BYD, SAIC Motor, Dongfeng Motor, and Great Wall Motors. ByteDance invests in unmanned industrial vehicle firm VisionNav Robotics TikTok developer ByteDance has joined the series C funding round of VisionNav Robotics, an unmanned vehicle provider for warehouse and factory operations. Investors such as Lenovo Capital and Incubator Group, Shunwei Capital, Unicom CICC, IDG Capital, and Eastern Bell Capital also took part in the new financing round. VisionNav Robotics will use the fresh funds will be used to invest in research and development, improve delivery, expand its product team, and launch new unmanned forklift products. VisionNav Robotics' autonomous vehicles include forklifts and tractors, with matching smart systems to run them. Chinese tech stocks decline amid crackdown on tech giants Chinese tech firm stocks fell on Thursday after state media reported that Beijing has increased scrutiny over its video gaming content. Additionally, The People’s Daily, the Communist Party’s mouthpiece, also suggested the government deepen its regulation on after-school tutoring firms. This led to a drop in tech stocks including Alibaba Group, JD.com, Tencent Holdings, and Meituan. Commentaries from media outlets signal a potential tightening on regulations after China finalized rules to root out monopolistic practices in the internet industry in February. \n",
      "Article 26: India Roundup: Grocery unicorn Grofers banks fresh funds, and other news (Updated)Update (Sept 29, 9:32 p.m.): Added news about Grofers' fundraise, CredAvenue, Exotel, and Fantasy Akhada Grocery delivery unicorn Grofers banks US$16.7 million in its latest round Online grocery delivery platform Grofers has reportedly secured US$16.7 million from existing investor KTB Ventures, lifting the valuation of the firm to US$1.01 billion. Last month, Grofers entered unicorn territory after raising US$100 million from Zomato. Following the latest investment, KTB holds a 4.4% stake in the online grocery platform. Meanwhile, SoftBank is the largest stakeholder in Grofers with 46.11% stake in the company, followed by Tiger Global, with a 17.07% stake. Oyo faces legal hurdle ahead of IPO Hospitality startup Zostel (Zo Rooms) has reportedly approached the Delhi High Court alleging that Oyo’s breached a binding agreement for a buyout deal that was inked six years ago. Zostel's legal counsel said the company filed an application in court last month that sought \"an interim order to restrain or injunct Oyo from modifying its shareholders structure or cap table including by way of an IPO (initial public offering).\" The legal battle comes ahead as the SoftBank-backed Oyo looks to raise about US$1 billion through its listing in India. Grofers co-founder launches new ecommerce firm Saurabh Kumar, who in June took a step back from his role at Grofers, the online grocery platform, has reportedly launched a new ecommerce firm called “Warpli” Warpli promises to deliver products to customers within a few hours, while most other ecommerce firms take up to five days. Kumar also plans to raise capital for the ecommerce platform, which has been bootstrapped so far. Meanwhile, he will remain a board member and a stakeholder at Grofers and reportedly has no plans to exit. Debt platform CredAvenue raises US$90 million in series A money Sequoia Capital India led the funding round, while Lightspeed, TVS Capital Funds, Lightrock, Cred, and Stride Ventures also participated. The startup will use the fresh capital to improve the tech on its platform including its data science infrastructure. Founded in 2019, CredAvenue offers an enterprise debt marketplace that connects enterprises with lenders and investors. To date, it has facilitated transactions worth US$9 billion through its platform. The company also plans to double its headcount to 700 by the end of FY 2022. Instamojo’s ecommerce venture aims to add over 250k new subscriptions Fintech firm Instamojo intends to onboard over 250,000 small businesses by the end of the financial year ending 2022. Instamojo’s ecommerce enabler suite includes tools to help businesses with building and managing their websites, digital payments, logistics, and marketing, among others. It entered the ecommerce enabler space earlier this year with a focus on direct-to-customer brands. The fintech firm acquired Times Internet-backed GetMeAShop, an ecommerce enablement firm, in February 2020. Customer engagement firm Exotel raises US$35 million in series C round The company raised its latest investment from IIFL AMC, Sistema Asia Fund, CX Partners and Singularity Growth Opportunities Fund. Existing investors Blume Ventures and A91 Partners also joined the round, along with former Vodafone CEO Arun Sarin. The company plans to use the new funds to develop its product offerings. The company said it has recorded an average recurring revenue (ARR) of US$45 million. It also aims to hit an ARR of US$200 million over the next five years. Exotel will increase its headcount by 200 over the next 12 months as well. Established in 2011, Exotel works with over 6,000 companies in India and overseas such as Ola, Flipkart, Gojek, HDFC Bank, Quikr, and Redmart. The latest fundraise comes months after Exotel announced a merger with Ameyo, a customer engagement platform. Former Vodafone exec joins US$2 million round in sports platform Fantasy Akhada Prime Securities and Team India Managers Limited led the round, while existing investors including the family of Harsha Bhogle, former Vodafone managing director and chief executive officer Sunil Sood also took part. Fantasy Akhada said it will use the fresh capital to develop tech capabilities as it looks to double down on user acquisition and retention, and scale the company. The one-year-old fantasy sports platform said it has increased its user base to 600,000 since its last fundraise in April. Fantasy Akhada added that its annualized gross gaming revenues have seen a 21x growth over the same period. VRO Hospitality raises US$3 million in series A money The series A funding round, which involved a mix of equity and debt, was led by CreedCap Asia. Several angel investors, whose identities were not revealed, also participated in the round. The hospitality chain plans to use the new capital to expand its presence in Mumbai, Goa, and Chennai. The company also said it will spend about 80% of the fresh funds on new projects, with 10% of the money earmarked for tech and team building and another 10% for cloud kitchen brands. Founded in 2018, VRO Hospitality operates multiple food and beverage brands such as Mirage, Hangover, Badmaash, Nevermind, and Tycoons. VRO said its operating profit since October 2020 has come in at 20% of revenues, which have grown by 4.1x. \n",
      "Article 27: China Roundup: Alibaba blocks sale of crypto products, and other newsAlibaba blocks crypto-related products on ecommerce platform Alibaba will stop selling cryptocurrency-related products such as mining machines, tutorials, and strategies on its platform starting October 8. The move comes after China announced a ban on using cryptocurrencies for transactions, clearing any doubt on the country’s stance on digital coins. Similarly, cryptocurrency exchange Biki will also cease operations by the end of November. The firm already stopped accepting new users from Mainland China on September 26. Geely founder to enter smartphone market Eric Li, founder and chairperson of Geely, will reportedly launch a new company that will make \"premium\" smartphones by 2023. Geely, which also owns Volvo, would be the first carmaker in the smartphone space. At the same time, existing smartphone makers are exploring the electric vehicle market. The firm will bank on brand recognition to meet its target of selling 3 million units in its first year. According to an internal memo, the project will be funded with an investment of over US$1.5 billion. \n",
      "Article 28: China roundup: Officials clarify details on crypto ban, and other newsChina makes ban on cryptocurrency crystal clear with latest statement Chinese state insititutions on September 24 announced a ban on transacting cryptocurrencies, clearing any doubt on the country's stance against the digital coins. Beijing will also clamp down on the mining of digital assets. Offshore exchange Huobi, meanwhile, blocked new users from signing up and said it will \"retire\" mainland Chinese accounts by the end of the year. The country had long been a hub for bitcoin mining. As of April 2021, China contributed 46% of the global computing power needed in cryptocurrency mining and processing. PAG leads DataYes' US$100 million fundraise DataYes, which offers management solutions for data and investments, raised US$100 million in a round led by PAG, a Hong Kong-based investment management firm. DataYes uses AI to help financial service players with data, software as a service, and other solutions. Investors are eyeing growth opportunities in the country's financial services sector as the total wealth of Chinese households set to reach 210 trillion Chinese yuan (US$30 billion) by 2025. Authorities launch standards for automated vehicles The State Administration for Market Regulation and the Standardization Administration have released guidelines for manufacturers of automated vehicles. The rules will reportedly come into effect by 2022. The standards feature a six-level grading system from zero to five, with each level corresponding to a vehicle's level of automation. These new norms could signal more state supervision over smart cars and automated driving, Pandaily reported. \n",
      "Article 29: India Roundup: IPO-bound Paytm gets additional shares, and other newsPaytm gets 545,000 additional shares for IPO in November The shares come from around 20 more employees converting their employee stock ownership plans (ESOPs) into shares. Around 220 current and former Paytm employees have chosen this option. Last week, Paytm set a deadline of September 22 for employees to convert their ESOPs into shares, while a deadline of September 27 has been decided for \"designated persons\" to sell or buy shares. As of September, the company has a total paid-up capital of 607.3 million rupees (US$8.2 million). Paytm is expected to go public in November in one of the largest initial public offerings in the country. Healthtech firm Medikabazaar banks US$60 million in series C money According to regulatory filings, Medikabazaar has allotted 638,357 series C preference shares at an issue price of about US$92 per share. CDC Group has reportedly poured about US$17.8 million into the company, while Creaegis, CIF, and HealthQuad have invested US$14.5 million, US$7.9 million, and US$6.9 million respectively. With the new funding round, the co-founders' stake in the company has been reduced to 28.59% from 40.88%. Early-stage VC firm Pentathlon hits first close of maiden fund at US$10.3 million Pentathlon, a venture capital firm focused on the business-to-business software-as-a-service (SaaS) sector, said that its first fund has been oversubscribed. The company plans to invest in the range of about US$101,500 to US$406,300 into over 20 startups in a year. The VC firm aims to serve as a critical link between the seed round and series A or B funding rounds for startups in the B2B SaaS industry. Paytm, Oyo India, Airbnb execs invest in edtech firm Leverage Edu Investors in the round include Vijay Shekhar Sharma, founder of Paytm; Rohit Kapoor, CEO of Oyo in India and Southeast Asia; and Amanpreet Bajaj, head of Airbnb in India, Southeast Asia, Hong Kong, and Taiwan. The fresh funds raised will be used to expand the company's teams in India and overseas. It will also use part of its funds to double its employee count to over 600 people across two continents. Founded in 2017, Leverage Edu provides full-stack services to students pursuing international education and careers. It is also backed by Blume Ventures, Tomorrow Capital, DSG Consumer Partners, and Trifecta Capital. Edtech firm Eupheus Learning buys ClassKlap in US$19 million deal The two companies said the acquisition is an all-stock deal, and it will be structured through a court process. The combined entity will cater to about 18,000 schools, with a sales team of over 200 members. It aims to engage over 15 million students in the next five years. Eupheus Learning has educational offerings in kinesthetic learning, reading enhancement, and English language comprehension through partnerships with edtech companies. Meanwhile, ClassKlap provides an app that aids learning and assessments for schools, students, and teachers. Currency converted from Indian rupees to US dollar: US$1 = 73.84 rupees.\n",
      "Article 30: India Roundup: Gaming unicorn Dream11 turns a profit, and other newsGaming unicorn Dream11 swings to US$24.6 million profit Dream11's parent firm, Sporta Technologies, recorded a profit of 1.81 billion rupees (US$24.6 million) for financial year 2020 (FY20), a turnaround from a loss of US$11.9 million a year ago. The company's revenue from operations also increased by 2.67x to 20.7 billion rupees (US$281.2 million) in FY20 from 7.8 billion rupees (US$105.4 million) in the previous year. Dream11's strong results come ahead of a potential initial public offering, which may bump up the valuation of the company to US$6 billion. It is in exploratory talks with investment banks for a US listing by early next year. Tiger Global-backed Wow Momo bags US$15 million in series C money The quick-service restaurant chain has raised US$15 million in its series C funding round led by Tree Line Investment Management. This pushes Wow Mom's value to US$165 million. Investors IAN Fund and Lighthouse Funds also joined the funding round. The company will use the fresh funds to develop its newly launched fast-moving consumer goods business, fuel the expansion of its quick-service restaurant and cloud kitchen brands, and roll out new verticals. India's proposed ecommerce rules hits internal snag The government has reportedly described certain proposals as \"excessive\" and \"without economic rationale.\" However, it is unclear how the objections from the government will impact the proposed rule changes, which was first suggested in June. The proposed amendments to the ecommerce rules may have an enormous impact on businesses like Amazon and Walmart-backed Flipkart, among others. In an August 31 memo, the Indian government highlighted that the proposed rules may also have a negative effect on a sector that could boost job creation and tax revenue. M2P acquires credit card sourcing startup Wizi in cash-and-stock deal Fintech startup M2P, which provides digital banking solutions to fintech firms and banks, has acquired credit card sourcing startup Wizi, The Economic Times reported. The deal was reportedly a mix of cash and stock, lifting the valuation of Wizi to about US$5 million. The acquisition will help M2P strengthen its Yap product, which is a programmable credit card platform that enables fintech firms and banks to offer credit cards to its customers through application programming interfaces. Thrasio-style 10Club makes first acquisition with babycare brand The ecommerce roll-up firm has snapped up My Newborn, which sells baby products on Amazon. Founded in 2020, 10Club is a ecommerce startup that acquires, operates, and helps digitally native businesses scale up. Under the deal, both companies will focus on improving My Newborn's margins and ensuring that its products are more affordable and easily available to Indian consumers. Currency converted from Indian rupees to US dollar: US$1 = 73.62 rupees.\n"
     ]
    }
   ],
   "source": [
    "# Fetch search results\n",
    "search_results = search_posts(keywords)\n",
    "\n",
    "# Count the number of articles\n",
    "if search_results and 'posts' in search_results and 'hits' in search_results['posts']:\n",
    "    articles_count = len(search_results['posts']['hits'])\n",
    "    print(f\"Number of articles found: {articles_count}\")\n",
    "else:\n",
    "    print(\"No articles found.\")\n",
    "\n",
    "# Initialize an empty list to hold the articles\n",
    "articles = []\n",
    "\n",
    "# Display the search results\n",
    "if search_results and 'posts' in search_results and 'hits' in search_results['posts']:\n",
    "    search_posts = search_results['posts']['hits']\n",
    "\n",
    "    # Append each article's title and content to the articles list\n",
    "    articles = [post['title'] + post['content'] for post in search_posts[:30]]\n",
    "\n",
    "    # Apply preprocessing to each article\n",
    "    cleaned_articles = [preprocess_text(article) for article in articles]\n",
    "else:\n",
    "    cleaned_articles = ['No relevant posts found.']\n",
    "\n",
    "# Example to show how to use the preprocessed articles list\n",
    "for idx, article in enumerate(cleaned_articles):\n",
    "    print(f\"Article {idx + 1}: {article}\")"
   ]
  },
  {
   "cell_type": "markdown",
   "metadata": {},
   "source": [
    "## Selecting Most Relevant Articles using BM25"
   ]
  },
  {
   "cell_type": "code",
   "execution_count": 14,
   "metadata": {},
   "outputs": [
    {
     "name": "stdout",
     "output_type": "stream",
     "text": [
      "Rank 1 Article (Score: 8.340306071774805): Podcast: Rounding up SEA tech news with Momentum Works Sea and Grab recently released earnings results and as always, any financial news regarding the two Southeast Asian giants gets a lot of attention. No wonder then that the first episode of the new Momentum Works podcast focused on the two firms. The venture builder and research firm recently launched Impulso, a podcast that dives into tech trends in Asia. Featuring CEO Jianggang Li, engagement manager Sabrina Chong, and insights lead Saniya \n",
      "Rank 2 Article (Score: 5.700262820441736): Did you expect anything but more Grab news?Sign up for the Daily Newsletter, sent exclusively to our Premium subscribers. We break down the big and messy topics of Asia’s tech and startup community. Get the newsletter in your inbox everyday with a Premium subscription. Hello readers, When scouting for players to sign on Football Manager, a simulation game that I play, my scouts will sometimes report that a player has great potential and good stats across the board but will strongly recommend aga\n",
      "Rank 3 Article (Score: 3.2847265031275756): China Roundup: Augmented reality firm raises $42m, and other news Augmented reality startup HiAR bags US$42 million Lead investor: CITIC Private Equity Funds Management Other investors: Jadex Capital, Grand View Capital, and THG Ventures Stage: Series C About the startup: Founded in 2012, HiAR produces hardware and software for augmented reality applications and use cases. Ximalaya withdraws US public listing plans The audio-sharing platform is the latest Chinese tech firm to shelve its plans of\n",
      "Rank 4 Article (Score: 0.0): China Roundup: TikTok hits 1b monthly users, and other newsTikTok hits 1 billion monthly active users, surpasses 3 billion downloads The short-video platform has reached 1 billion monthly active users worldwide, gaining 300 million of them since June 2020 alone. The ByteDance-owned app has also hit 3 billion downloads, according to research firm Sensor Tower. This growth comes amid privacy concerns surrounding the Chinese-owned company. A ban in the US was once on the table due to alleged nation\n",
      "Rank 5 Article (Score: 0.0): Paytm stock jumps 11.6% on news of Sharma’s stake purchase Vijay Shekhar Sharma, the founder and CEO of One97 Communications, has entered into an agreement with Ant Financial to buy the latter's 10.30% stake in the Indian company. The value of the 10.30% stake was estimated to be US$628 million as of August 4. The move was announced by Paytm, the payments platform operating under One97 Communications, on Monday. The purchase will be made via Sharma's owned overseas entity, Resilient Asset Manage\n"
     ]
    }
   ],
   "source": [
    "# Check if there are any preprocessed articles to rank\n",
    "if cleaned_articles and cleaned_articles[0] != 'No relevant posts found.':\n",
    "    # Tokenize the articles\n",
    "    tokenized_articles = [article.split() for article in cleaned_articles]\n",
    "\n",
    "    # Initialize BM25\n",
    "    bm25 = BM25Okapi(tokenized_articles)\n",
    "\n",
    "    # Tokenize the query\n",
    "    tokenized_query = \" \".join(keywords).split()\n",
    "\n",
    "    # Get BM25 scores\n",
    "    scores = bm25.get_scores(tokenized_query)\n",
    "    \n",
    "    # Get the indices of the top 5 articles\n",
    "    top_5_indices = scores.argsort()[::-1][:5]\n",
    "    \n",
    "    # Select the top 5 articles based on BM25 scores\n",
    "    top_5_articles = [cleaned_articles[i] for i in top_5_indices]\n",
    "    \n",
    "    # Display the top 5 articles\n",
    "    for idx, article in enumerate(top_5_articles):\n",
    "        print(f\"Rank {idx + 1} Article (Score: {scores[top_5_indices[idx]]}): {article[:500]}\")  # Display first 500 characters for brevity\n",
    "else:\n",
    "    print(\"No relevant posts found.\")"
   ]
  },
  {
   "cell_type": "markdown",
   "metadata": {},
   "source": [
    "## Comparing Retrieval Methods"
   ]
  },
  {
   "cell_type": "markdown",
   "metadata": {},
   "source": [
    "# Generate Response"
   ]
  },
  {
   "cell_type": "code",
   "execution_count": null,
   "metadata": {},
   "outputs": [],
   "source": [
    "# Function to process search results and generate background knowledge\n",
    "def generate_context(search_results):\n",
    "    if search_results and 'posts' in search_results and 'hits' in search_results['posts']:\n",
    "        search_posts = search_results['posts']['hits']\n",
    "\n",
    "        # background knowledge with title and content\n",
    "        raw_articles = \"\".join([post['title'] + post['content'] for post in search_posts[:3]])\n",
    "    else:\n",
    "        raw_articles = 'No relevant posts found.'\n",
    "    return raw_articles"
   ]
  },
  {
   "cell_type": "code",
   "execution_count": null,
   "metadata": {},
   "outputs": [],
   "source": [
    "# Function to generate responses using OpenAI\n",
    "def generate_response(search_results, query):\n",
    "    try:\n",
    "        background_knowledge = generate_context(search_results)\n",
    "\n",
    "        response = client.chat.completions.create(\n",
    "            model=\"gpt-3.5-turbo\",\n",
    "            messages=[\n",
    "                {\"role\": \"system\", \"content\": \"Answer the question based on the question asked and background knowledge provided below, and if the question can't be answered based on the context, say \\\"I don't know\\\"\\n\\n\"},\n",
    "                {\"role\": \"user\", \"content\": f\"Question: {query}\\nBackground Knowledge: {background_knowledge}\\nAnswer:\"}\n",
    "            ],\n",
    "            max_tokens=100\n",
    "        )\n",
    "        return response.choices[0].message.content\n",
    "    \n",
    "    except Exception as e:\n",
    "        print(f'Error generating response: {e}')\n",
    "        return None"
   ]
  },
  {
   "cell_type": "code",
   "execution_count": null,
   "metadata": {},
   "outputs": [],
   "source": [
    "# # Test the response generation\n",
    "# query = 'How is Grab performing in the market?'\n",
    "\n",
    "# search_results = search_posts(query)\n",
    "# generate_response(search_results, query)"
   ]
  },
  {
   "cell_type": "markdown",
   "metadata": {},
   "source": [
    "# Interface"
   ]
  },
  {
   "cell_type": "code",
   "execution_count": null,
   "metadata": {},
   "outputs": [],
   "source": [
    "# # Build the Gradio interface\n",
    "# def rag_interface(query):\n",
    "#     search_results = search_posts(query)\n",
    "#     return generate_response(search_results, query)\n",
    "\n",
    "# iface = gr.Interface(fn=rag_interface, inputs=\"text\", outputs=\"text\", title='Tech in Asia RAG System', description='Ask a question about Tech in Asia and get an answer based on the context of the latest posts.')\n",
    "# iface.launch()"
   ]
  }
 ],
 "metadata": {
  "kernelspec": {
   "display_name": "venv",
   "language": "python",
   "name": "python3"
  },
  "language_info": {
   "codemirror_mode": {
    "name": "ipython",
    "version": 3
   },
   "file_extension": ".py",
   "mimetype": "text/x-python",
   "name": "python",
   "nbconvert_exporter": "python",
   "pygments_lexer": "ipython3",
   "version": "3.9.6"
  }
 },
 "nbformat": 4,
 "nbformat_minor": 2
}
