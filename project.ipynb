{
 "cells": [
  {
   "cell_type": "markdown",
   "metadata": {},
   "source": [
    "# 1 Setup"
   ]
  },
  {
   "cell_type": "code",
   "execution_count": 1,
   "metadata": {},
   "outputs": [
    {
     "name": "stderr",
     "output_type": "stream",
     "text": [
      "/Users/winsonchow/Documents/GitHub/RAG-app/venv/lib/python3.9/site-packages/urllib3/__init__.py:35: NotOpenSSLWarning: urllib3 v2 only supports OpenSSL 1.1.1+, currently the 'ssl' module is compiled with 'LibreSSL 2.8.3'. See: https://github.com/urllib3/urllib3/issues/3020\n",
      "  warnings.warn(\n",
      "/Users/winsonchow/Documents/GitHub/RAG-app/venv/lib/python3.9/site-packages/tqdm/auto.py:21: TqdmWarning: IProgress not found. Please update jupyter and ipywidgets. See https://ipywidgets.readthedocs.io/en/stable/user_install.html\n",
      "  from .autonotebook import tqdm as notebook_tqdm\n"
     ]
    }
   ],
   "source": [
    "# System imports\n",
    "import os\n",
    "import re\n",
    "\n",
    "# Environment variable management\n",
    "from dotenv import load_dotenv\n",
    "\n",
    "# HTTP requests\n",
    "import requests\n",
    "\n",
    "# Web scraping\n",
    "from bs4 import BeautifulSoup\n",
    "\n",
    "# NLP processing\n",
    "import spacy\n",
    "\n",
    "# Ranking algorithm\n",
    "from rank_bm25 import BM25Okapi\n",
    "\n",
    "# OpenAI API\n",
    "from openai import OpenAI\n",
    "\n",
    "# User interface\n",
    "import gradio as gr"
   ]
  },
  {
   "cell_type": "code",
   "execution_count": 2,
   "metadata": {},
   "outputs": [],
   "source": [
    "# Load the environment variables\n",
    "load_dotenv()\n",
    "\n",
    "# Retrieve the API key from the environment variable\n",
    "client = OpenAI(\n",
    "    api_key=os.environ.get(\"OPENAI_API_KEY\"),\n",
    ")"
   ]
  },
  {
   "cell_type": "code",
   "execution_count": 3,
   "metadata": {},
   "outputs": [],
   "source": [
    "# Define API endpoints\n",
    "list_posts_url = 'https://www.techinasia.com/wp-json/techinasia/2.0/posts'\n",
    "search_posts_url = 'https://www.techinasia.com/wp-json/techinasia/2.0/articles?query='"
   ]
  },
  {
   "cell_type": "markdown",
   "metadata": {},
   "source": [
    "# 2 Data Retrieval"
   ]
  },
  {
   "cell_type": "markdown",
   "metadata": {},
   "source": [
    "## 2.1 Fetch Post by Page"
   ]
  },
  {
   "cell_type": "code",
   "execution_count": 4,
   "metadata": {},
   "outputs": [],
   "source": [
    "# Function to fetch posts from API\n",
    "def fetch_posts_from_api(page):\n",
    "    try:\n",
    "        headers = {\n",
    "            'User-Agent': 'Mozilla/5.0 (Windows NT 10.0; Win64; x64) AppleWebKit/537.36 (KHTML, like Gecko) Chrome/91.0.4472.124 Safari/537.36'\n",
    "        }\n",
    "        response = requests.get(list_posts_url, params={'page': page}, headers=headers)\n",
    "        response.raise_for_status()\n",
    "        print(\"Status Code:\", response.status_code)\n",
    "        # print(\"Response Headers:\", response.headers)\n",
    "        # print(\"Response Text:\", response.text)\n",
    "\n",
    "        post_data = response.json()\n",
    "\n",
    "        return post_data['posts']\n",
    "    \n",
    "    except requests.exceptions.RequestException as e:\n",
    "        print(f'Error fetching posts: {e}')\n",
    "        return None\n",
    "    except ValueError as e:\n",
    "        print(f'Error parsing response: {e}')\n",
    "        return None"
   ]
  },
  {
   "cell_type": "code",
   "execution_count": 5,
   "metadata": {},
   "outputs": [
    {
     "name": "stdout",
     "output_type": "stream",
     "text": [
      "Status Code: 200\n",
      "Fetched 30 posts.\n"
     ]
    }
   ],
   "source": [
    "# Fetch posts\n",
    "page = 1\n",
    "posts = fetch_posts_from_api(page=page)\n",
    "print(f\"Fetched {len(posts)} posts.\")\n",
    "\n",
    "# # Display the first post to verify the structure\n",
    "# if posts:\n",
    "#     print(posts[0])"
   ]
  },
  {
   "cell_type": "markdown",
   "metadata": {},
   "source": [
    "## 2.2 Search Post by Keywords"
   ]
  },
  {
   "cell_type": "code",
   "execution_count": 6,
   "metadata": {},
   "outputs": [],
   "source": [
    "# Function to search posts from API\n",
    "def search_posts(keywords):\n",
    "    try:\n",
    "        headers = {\n",
    "            'User-Agent': 'Mozilla/5.0 (Windows NT 10.0; Win64; x64) AppleWebKit/537.36 (KHTML, like Gecko) Chrome/91.0.4472.124 Safari/537.36'\n",
    "        }\n",
    "        response = requests.get(search_posts_url, params={'query': keywords}, headers=headers)\n",
    "\n",
    "        if response.status_code == 200:\n",
    "            try:\n",
    "                return response.json()\n",
    "            except ValueError as e:\n",
    "                print(f'Error parsing response JSON: {e}')\n",
    "                return []\n",
    "        else:\n",
    "            print(f'Error fetching posts: HTTP {response.status_code}')\n",
    "            return []\n",
    "    \n",
    "    except requests.exceptions.RequestException as e:\n",
    "        print(f'Error fetching posts: {e}')\n",
    "        return []"
   ]
  },
  {
   "cell_type": "markdown",
   "metadata": {},
   "source": [
    "# 3 Preprocessing"
   ]
  },
  {
   "cell_type": "markdown",
   "metadata": {},
   "source": [
    "## 3.1 Extracting Keywords from User Query"
   ]
  },
  {
   "cell_type": "code",
   "execution_count": 7,
   "metadata": {},
   "outputs": [],
   "source": [
    "# Load the spacy model\n",
    "nlp = spacy.load('en_core_web_sm')"
   ]
  },
  {
   "cell_type": "code",
   "execution_count": 8,
   "metadata": {},
   "outputs": [],
   "source": [
    "def preprocess_query(query):\n",
    "    doc = nlp(query)\n",
    "    keywords = []\n",
    "    \n",
    "    for token in doc:\n",
    "        if not token.is_stop and not token.is_punct:\n",
    "            # Add named entities and nouns to keywords list\n",
    "            if token.ent_type_ or token.pos_ in ['NOUN', 'PROPN', 'ADJ']:\n",
    "                keywords.append(token.lemma_)\n",
    "    \n",
    "    return keywords"
   ]
  },
  {
   "cell_type": "code",
   "execution_count": 9,
   "metadata": {},
   "outputs": [
    {
     "name": "stdout",
     "output_type": "stream",
     "text": [
      "Extracted Keywords: ['today']\n",
      "Extracted Keywords: ['Grab', 'profitability']\n"
     ]
    }
   ],
   "source": [
    "# Example query\n",
    "query = \"What’s happening today?\"\n",
    "keywords = preprocess_query(query)\n",
    "print(\"Extracted Keywords:\", keywords)\n",
    "\n",
    "query = \"Tell me about Grab’s profitability.\"\n",
    "keywords = preprocess_query(query)\n",
    "print(\"Extracted Keywords:\", keywords)\n",
    "\n",
    "# query = \"Give me a history of HonestBee.\"\n",
    "# keywords = preprocess_query(query)\n",
    "# print(\"Extracted Keywords:\", keywords)\n",
    "\n",
    "# query = \"What are the top startups in Indonesia?\"\n",
    "# keywords = preprocess_query(query)\n",
    "# print(\"Extracted Keywords:\", keywords)\n",
    "\n",
    "# query = \"What are the upcoming Events at Tech in Asia?\"\n",
    "# keywords = preprocess_query(query)\n",
    "# print(\"Extracted Keywords:\", keywords)"
   ]
  },
  {
   "cell_type": "markdown",
   "metadata": {},
   "source": [
    "## 3.2 Extracting Relevant Articles"
   ]
  },
  {
   "cell_type": "markdown",
   "metadata": {},
   "source": [
    "### 3.2.1 Retrieving All Articles"
   ]
  },
  {
   "cell_type": "code",
   "execution_count": 10,
   "metadata": {},
   "outputs": [],
   "source": [
    "# Function to clean up the article content\n",
    "def preprocess_article(article):\n",
    "    # Remove HTML tags\n",
    "    article = BeautifulSoup(article, 'html.parser').get_text()\n",
    "\n",
    "    # Remove URLs\n",
    "    article = re.sub(r'http\\S+', '', article)\n",
    "\n",
    "    # Handle special characters\n",
    "    article = re.sub(r'&amp;', '&', article)\n",
    "\n",
    "    # Normalise whitespace\n",
    "    article = re.sub(r'\\s+', ' ', article)\n",
    "\n",
    "    # Remove source and citation tags\n",
    "    article = re.sub(r'\\[.*?\\]+', '', article)\n",
    "\n",
    "    return article"
   ]
  },
  {
   "cell_type": "code",
   "execution_count": 11,
   "metadata": {},
   "outputs": [],
   "source": [
    "def fetch_and_preprocess_articles(search_results):\n",
    "    # Initialize an empty list to hold the articles\n",
    "    articles = []\n",
    "\n",
    "    # Display the search results\n",
    "    if search_results and 'posts' in search_results and 'hits' in search_results['posts']:\n",
    "        search_posts = search_results['posts']['hits']\n",
    "\n",
    "        # Append each article's title and content to the articles list\n",
    "        articles = [post['title'] + post['content'] for post in search_posts[:30]]\n",
    "\n",
    "        # Apply preprocessing to each article\n",
    "        cleaned_articles = [preprocess_article(article) for article in articles]\n",
    "    else:\n",
    "        cleaned_articles = ['No relevant posts found.']\n",
    "\n",
    "    return cleaned_articles"
   ]
  },
  {
   "cell_type": "code",
   "execution_count": 12,
   "metadata": {},
   "outputs": [],
   "source": [
    "# Count the number of articles in the search results\n",
    "def count_articles(search_results):\n",
    "    if search_results and 'posts' in search_results and 'hits' in search_results['posts']:\n",
    "        articles_count = len(search_results['posts']['hits'])\n",
    "        return articles_count\n",
    "    return 0"
   ]
  },
  {
   "cell_type": "code",
   "execution_count": 13,
   "metadata": {},
   "outputs": [],
   "source": [
    "# Display articles\n",
    "def display_articles(articles):\n",
    "    for idx, article in enumerate(articles):\n",
    "        print(f\"Article {idx + 1}: {article}\")"
   ]
  },
  {
   "cell_type": "code",
   "execution_count": 14,
   "metadata": {},
   "outputs": [
    {
     "name": "stdout",
     "output_type": "stream",
     "text": [
      "Number of articles found: 30\n"
     ]
    }
   ],
   "source": [
    "# Fetch search results\n",
    "search_results = search_posts(keywords)\n",
    "\n",
    "# Count the number of articles\n",
    "articles_count = count_articles(search_results)\n",
    "print(f\"Number of articles found: {articles_count}\")\n",
    "\n",
    "# Fetch and preprocess articles\n",
    "cleaned_articles = fetch_and_preprocess_articles(search_results)\n",
    "\n",
    "# Display the preprocessed articles\n",
    "# display_articles(cleaned_articles)"
   ]
  },
  {
   "cell_type": "markdown",
   "metadata": {},
   "source": [
    "### 3.2.2 Ranking Articles with BM25"
   ]
  },
  {
   "cell_type": "code",
   "execution_count": 15,
   "metadata": {},
   "outputs": [],
   "source": [
    "def rank_articles(cleaned_articles, keywords):\n",
    "    if cleaned_articles and cleaned_articles[0] != 'No relevant posts found.':\n",
    "        # Tokenize the articles\n",
    "        tokenized_articles = [article.split() for article in cleaned_articles]\n",
    "\n",
    "        # Initialize BM25\n",
    "        bm25 = BM25Okapi(tokenized_articles)\n",
    "\n",
    "        # Tokenize the query\n",
    "        tokenized_query = \" \".join(keywords).split()\n",
    "\n",
    "        # Get BM25 scores\n",
    "        scores = bm25.get_scores(tokenized_query)\n",
    "        \n",
    "        # Get the indices of the top 5 articles\n",
    "        top_5_indices = scores.argsort()[::-1][:5]\n",
    "        \n",
    "        # Select the top 5 articles based on BM25 scores\n",
    "        top_5_articles = [cleaned_articles[i] for i in top_5_indices]\n",
    "\n",
    "        # Display the top 5 articles\n",
    "        for idx, article in enumerate(top_5_articles):\n",
    "            # Display first 100 characters for brevity\n",
    "            print(f\"Rank {idx + 1} Article (Score: {scores[top_5_indices[idx]]}): {article[:100]}\")\n",
    "\n",
    "        return top_5_articles\n",
    "    else:\n",
    "        print(\"No relevant articles found.\")\n",
    "        return []"
   ]
  },
  {
   "cell_type": "code",
   "execution_count": 16,
   "metadata": {},
   "outputs": [
    {
     "name": "stdout",
     "output_type": "stream",
     "text": [
      "Rank 1 Article (Score: 2.9279612297320794): Grab posts $525m in Q1 revenue, eyes profitability by Q4 Grab's revenue in Q1 2023 jumped 130% year \n",
      "Rank 2 Article (Score: 2.404540115015261): Tracing Uber’s and Grab’s path to profitabilitySign up for the Daily Newsletter, sent exclusively to\n",
      "Rank 3 Article (Score: 2.19098161571723): GoTo’s on-demand segment nears its profitability destinationSign up for the Daily Newsletter, sent e\n",
      "Rank 4 Article (Score: 2.0630338974564078): GrabKitchen falls victim to super app’s profitability pushWelcome to the Opening Bell 🔔! Delivered e\n",
      "Rank 5 Article (Score: 1.852005715144181): Indonesian beauty firm spills the beans on profitabilitySign up for the Daily Newsletter, sent exclu\n"
     ]
    }
   ],
   "source": [
    "# Rank articles\n",
    "top_5_articles = rank_articles(cleaned_articles, keywords)"
   ]
  },
  {
   "cell_type": "markdown",
   "metadata": {},
   "source": [
    "## 3.3 Summarisation"
   ]
  },
  {
   "cell_type": "code",
   "execution_count": 17,
   "metadata": {},
   "outputs": [],
   "source": [
    "# from transformers import pipeline\n",
    "\n",
    "# # Load a summarization pipeline\n",
    "# summarizer = pipeline(\"summarization\")\n",
    "\n",
    "# def summarize_article(article, max_length=150):\n",
    "#     summary = summarizer(article, max_length=max_length, min_length=30, do_sample=False)\n",
    "#     return summary[0]['summary_text']\n",
    "\n",
    "# def generate_background_knowledge(top_articles):\n",
    "#     \"\"\"\n",
    "#     Generates background knowledge by summarizing and combining the content of the top articles.\n",
    "    \n",
    "#     Parameters:\n",
    "#     top_articles (list of str): List of articles' content.\n",
    "    \n",
    "#     Returns:\n",
    "#     str: Combined content of the summarized top articles.\n",
    "#     \"\"\"\n",
    "#     summarized_articles = [summarize_article(article) for article in top_articles]\n",
    "#     background_knowledge = \"\\n\\n\".join(summarized_articles)\n",
    "    \n",
    "#     return background_knowledge\n",
    "\n",
    "\n",
    "# background_knowledge = generate_background_knowledge(top_5_articles)\n",
    "# print(background_knowledge)"
   ]
  },
  {
   "cell_type": "markdown",
   "metadata": {},
   "source": [
    "## Comparing Retrieval Methods"
   ]
  },
  {
   "cell_type": "markdown",
   "metadata": {},
   "source": [
    "# 4 RAG Implementation"
   ]
  },
  {
   "cell_type": "markdown",
   "metadata": {},
   "source": [
    "## 4.1 Generate Context for LLM"
   ]
  },
  {
   "cell_type": "code",
   "execution_count": 18,
   "metadata": {},
   "outputs": [],
   "source": [
    "def generate_background_knowledge(top_articles):\n",
    "    # Ensure top_articles is a list of strings\n",
    "    if not isinstance(top_articles, list):\n",
    "        raise TypeError(\"top_articles must be a list\")\n",
    "    if not all(isinstance(article, str) for article in top_articles):\n",
    "        raise TypeError(\"All elements in top_articles must be strings\")\n",
    "    \n",
    "    # Combine the content of the top articles into a single string\n",
    "    background_knowledge = \"\\n\\n\".join(top_articles)\n",
    "    \n",
    "    return background_knowledge"
   ]
  },
  {
   "cell_type": "code",
   "execution_count": 19,
   "metadata": {},
   "outputs": [
    {
     "name": "stdout",
     "output_type": "stream",
     "text": [
      "Grab posts $525m in Q1 revenue, eyes profitability by Q4 Grab's revenue in Q1 2023 jumped 130% year on year to US$525 million, which the Singapore tech giant attributed to growth across all its segments. The company also reduced its adjusted losses for the quarter by 77% year on year, landing at US$66 million. \"With five sequential quarters of adjusted EBITDA improvements, we remain on track on our path to profitability and to achieve group adjusted EBITDA breakeven in the fourth quarter of this year,\" said Anthony Tan, group CEO and co-founder of Grab. Deliveries were the star of the show for the company in Q1, contributing US$275 million in revenue. This represents a 217% leap over the same year-ago period. Meanwhile, segment gross merchandise value (GMV) dropped 4% year on year to US$2.3 billion. Grab said its growth in revenues comes mainly on the back of contributions from Jaya Grocer - which it acquired in 2021 - as well as a reduction in incentives. The company also said that GrabUnlimited, its subscription service, accounted for over a quarter of the GMV for deliveries for the quarter. Its mobility segment drew US$194 million in revenue in Q1, marking a 77% increase compared to the same quarter last year. Mobility GMV - at US$1.2 billion - was also up 51% compared to Q1 2022. Finally, the revenue for Grab's financial services rose by 233% year on year at US$38 million, which was driven by lowered consumer incentives and higher lending activity. The company said GrabFin’s loan disbursements in the quarter grew 45% compared to the same quarter last year. See also: SEA’s major tech stocks compared: Sea Group soars, Bukalapak sinks\n",
      "\n",
      "Tracing Uber’s and Grab’s path to profitabilitySign up for the Daily Newsletter, sent exclusively to our premium subscribers. We break down the big and messy topics of Asia’s tech and startup community. Get the newsletter in your inbox everyday with a premium subscription. Hi readers, It has been said that history is written by the victors. To that, one can add \"and profit is made by the winners.\" From Uber in the US to Grab in Southeast Asia, dominant mobility and food delivery platforms are finding their stride and hitting various profitability metrics - \"finally,\" some would say. Meanwhile, shares of Lyft - Uber’s ride-hailing rival in the US - fell over 7% after it published its latest quarterly results, which raised concerns over its strategy to gain market share by matching Uber on pricing. It's no surprise, then, that players with smaller market shares are trying to derive benefits from scale by working with each other. In Singapore, for example, Deliveroo, one of the delivery platforms in the city-state, has teamed up with Gojek's mobility business to offer savings and rewards to customers. The bigger story, however, is about Uber and Grab and their journeys to profitability. The two are intertwined. Grab acquired Uber's Southeast Asian business in 2018, and the latter remains a significant shareholder of the former. Yet, amid the celebrations, another saying comes to mind: heavy is the head that wears the crown. When you're at the top, the only way to go is down, and incumbents will have to constantly be on the lookout for new threats. -- Simon Huang, journalist at Tech in Asia Top stories this week 1️. Uber’s path to profit: a roadmap for Grab? Morgan Stanley analysts expect Grab to record adjusted EBITDA of US$137 million in 2024, but that’s likely to fall short of GAAP profitability. 2. Charting the SaaS landscape in Indonesia (Updated) Amid the funding crunch, 2022 saw a 38% decrease in total investments for the country's SaaS sector. 3. From living ‘hand to mouth’ to being ‘old friends’ with Ray Dalio: Ng Kok Song’s path to presidential hopeful Ng Kok Song has spent years as a card-carrying member of the Singapore establishment. Now, can he take on the establishment candidate for president? 4. What GoPay’s new standalone app says about GoTo’s ‘super-app’ strategy The GoPay app is up to a quarter of the size of the Tokopedia and Gojek apps and sports a “simple and user-friendly” design. 5. To build or not to build: TikTok Shop’s logistics dilemma Top ecommerce players in Southeast Asia have in-house logistics for both last-mile delivery and fulfillment. Should TikTok Shop follow suit? 6. How tech destroyed Astro’s dominance in Malaysian pay-TV The media giant had a 20-year monopoly but is struggling to adapt to competition. 7. Despite an Indian edtech firm’s 100% placement guarantee, students are stuck with debt and uncertainty More than a dozen students say they were left jobless and in debt after paying for Hero Vired's postgraduate courses. 8. US-China tensions may be cooling, but chips remain a hot issue The US and China may be backing down from a full “decoupling,” but fights over chip production and supply chains still threaten the tech industry. 9. New US order against China tech could spark debt default, war: economist A former IIF and IMF executive warns that US efforts to constrain China’s technological growth could lead to further economic conflict. 10. Alibaba’s financial health in 5 charts We visualize the latest financial figures reported by the Chinese internet giant. Tech in Asia’s Founders Meetup: India Navigating Singapore's shifting news horizons: a fireside chat with Tech in Asia's editorial experts Delve into insightful editorial discussions about the latest news and trends in Singapore led by our Tech in Asia duo COO Maria Li and tech editor Collin Furtado. Taking into account the interest of Bangalore-based entrepreneurs in Singapore's intricate startup ecosystem, we have crafted a fireside chat to dive deep into the city-state's evolving news landscape. Mark your calendar for August 25 and join us in the heart of Bangalore at Byg Brewski to connect, learn, and exchange ideas with fellow founders from the Tech in Asia community. Why navigate the startup journey alone when you can collaborate with others and break through barriers together? This event is happening soon, so act fast and secure your entry here. Tickets are now on sale at US$12.50 (around 1,029 rupees) each, inclusive of complimentary light bites and free-flowing beer and mocktails. Hurry, tickets are limited. Avoid FOMO and claim your spot today! Special thanks to our official event partners - AWS, CleverTap, Cooley, Sinarmas Land, Singapore Global Network (SGN), Quest Ventures, and Purple Quarter - and our community partners - WeWork, Gobi Partners, ConnectFarmer, Draper Startup House, Spicy Rocket, WeFounderCircle, and Founders Forum Group - for making this meetup possible.\n",
      "\n",
      "GoTo’s on-demand segment nears its profitability destinationSign up for the Daily Newsletter, sent exclusively to our premium subscribers. We break down the big and messy topics of Asia’s tech and startup community. Get the newsletter in your inbox everyday with a premium subscription. Hello reader, It’s a marathon, not a sprint. I feel that often, we look at things as needing to be done as soon as it’s feasible to. Maybe it’s some sense of ambition or competition that drives us to push harder and get the results we want quicker. That said, unless you’re Usain Bolt or Eliud Kipchoge, you’re most likely not going to achieve your goal in record time. In fact, in some cases, just reaching your goal at all can be considered an achievement. This applies to many startups that have taken a difficult road to profitability. About a decade ago, many superstar firms like Grab and GoTo Group came out guns blazing, looking to grow their user base and revenue as quickly as possible. Once their sights turned to profitability, however, things slowed down considerably. Today’s story takes a look at GoTo’s on-demand services unit as it teeters on the edge of profitability, a long journey that’s taken it years to reach. Today we look at: GoTo’s on-demand segment close to tasting profitability The 50 Indian startups that have raised the most funding Other newsy highlights such as Singapore developing Southeast Asia’s first large language model and a new tech ecosystem from Hub71 Premium summary The brink of profitability It’s taken over a decade, but GoTo Group’s mobility and food delivery segments are close to being in the black. The fact that it took this long shouldn’t come as a surprise - it’s faced tons of twists and turns as well as competition during that time. Hitting this milestone would serve as a positive signal of better times to come. Closing the gap: In Q3 this year, the on-demand segment’s adjusted EBITDA loss stood at US$3.1 million, 95% lower compared to Q3 2022. According to a previous forecast, this vertical is likely to turn a profit by Q4 2023. Rapidfire: Over the course of 2023, Gojek introduced several new transport-related solutions, with the aim of managing its costs while growing its market share among price-conscious consumers. Still a ways to go: That said, the firm is still operating at a loss at the group level. To further drive profitability efforts, it’s looking to reduce reliance on third-party marketing tech and suppress incentive costs. Read more: GoTo’s on-demand segment charts its roadmap to profitability Listicle of the day India’s tech superstars I always find it really interesting to write about high-profile Indian startups. That’s because here in Southeast Asia, I’m still a little more isolated from India’s tech scene - I’ve rarely, if ever, seen the products and solutions from the firms there. And yet, it’s crazy to see how much investment some of them are getting. Here’s a closer look at the country’s top-funded startups. By the by: No surprises here - edtech major Byju’s sits comfortably at the top of our list with US$3.7 billion to date, putting it around US$1.5 billion ahead of its closest competitor, Reliance Jio. Ol’ Reliable: Speaking of Reliance, apart from Reliance Jio at number two with US$2.2 billion in funding, the number four spot is taken by Reliance Retail. It’s got US$1.8 billion in funding so far. The threshold: There are seven Indian firms in our list that have raised at least a billion, with Ola Electric rounding it out at US$1 billion in funding to date. See also: An Indian astrology startup turning prophecy into profits Quick bytes 1️⃣ Deepening the pool Singapore is looking to grow its pool of AI professionals to 15,000. Under the new initiative, local talent will get training support and overseas professionals will be brought in. 2️⃣ Slick slang Speaking of Singapore and AI, the city-state will develop Southeast Asia’s first large language model through a US$52 million project by the Infocomm Media Development Authority. The goal is to launch the model over the next two years. 3️⃣ To infinity Chinese space startup Galactic Energy has successfully launched two satellites. It’s a nice turnaround after the firm encountered a rocket failure earlier this year. 4️⃣ Emptying out Between 2022 and 2023, Indian edtech major Byju’s gave up around 620,000 square feet of office space in Bengaluru as part of its cost-cutting measures. That said, the company still has around 3 million square feet of office space across India. 5️⃣ Hubba dub dub Abu Dhabi-based Hub71 has launched Hub71+ ClimateTech, which will focus on supporting startups that are working on sustainable decarbonization technologies. The 12-month program will offer incentives worth US$68,000 as well as cash support of the same amount. 6️⃣ Billion with a B Elon Musk’s xAI is aiming to raise up to US$1 billion in capital through an equity offering. So far, the firm has secured around US$135 million of that amount.\n",
      "\n",
      "GrabKitchen falls victim to super app’s profitability pushWelcome to the Opening Bell 🔔! Delivered every Monday via email and through the Tech in Asia website, this free newsletter breaks down the biggest stories and latest trends on Asia’s publicly listed tech companies. Get it in your email inbox by registering here. Hello reader, I haven’t ordered food from a cloud kitchen before. My beef with food delivery services is the overwhelming number of options. Wouldn’t life be simpler if you were only given two choices? Ok, so maybe I’m not in the customer segment these companies target - One reason food delivery services run cloud kitchens is to close cuisine gaps on their platforms - this was why Grab (GRAB, NDAQ) started its cloud kitchen business four years ago. Now, GrabKitchen is shutting its operations in Indonesia, where the super app has over 40 cloud kitchens. In this week’s big story, my colleague, Samreen, covers the reasons for this and the implications for the sector as a whole. Current market conditions have forced tech companies to cut costs - just this week, Meta (META, NDAQ) announced layoffs for the first time in its history. At least Meta is profitable. Companies like Grab that have yet to turn a profit - let alone generate free cash flow - are under even greater pressure from investors to get into the black. One way to do so is to focus on a company’s core businesses and jettison non-core segments. The decision to close GrabKitchen should be seen in that light rather than as an indictment of the sector as a whole. Grab’s exit from the market may actually benefit the remaining players, who will have to deal with one less competitor. Grab may also choose to partner with one of the existing players, which may allow it to retain some of the benefits of GrabKitchen without having to own the assets. For many tech platforms, focusing on core businesses involves recognizing that their key advantage goes back to the basics of a platform - asset light and gains from network effects. -- Simon THE BIG STORY Making sense of Grab’s closure of cloud kitchens in Indonesia The shutdown is unlikely to be an obituary for the whole industry. See also: Indonesia’s Wahyoo eyes series B raise to bake in cloud kitchen ambition 3 Trends to keep an eye on Hot stocks, earnings reports, restructuring, pressure from activist investors, and more. 1️⃣ Blibli goes public: Global Digital Niaga (BELI, IDX), the parent company of Indonesia-based ecommerce firm Blibli and online travel company Tiket, started trading on the Indonesian Stock Exchange last week. Its shares were trading at 456 rupiah as at the close of the first day of trading, up 1% from the IPO price of 450 rupiah. This gives the company a market cap of around US3.4 billion, compared to Bukalapak’s (BUKA, IDX) US$1.9 billion and GoTo’s (GOTO, IDX) US$15 billion. Blibli raised US$510 million from the IPO. However, more than half of that (US$355 million) will be used to pay off its debts to banks. As my colleague, Jofie, pointed out previously, around US$130 million of this is owed to Bank Central Asia (BBCA, IDX), which has the same controlling shareholders as Blibli. While it makes sense for the ecommerce firm to pay off debts, this means that there is less to invest in growing the business and innovation. On a broader level, the rollout of yet another tech IPO in Indonesia solidifies the archipelago’s status as the region’s leading stock exchange for consumer tech IPOs, albeit for Indonesia-focused companies. In the future, it wouldn’t be surprising if some regional tech companies choose to list their Indonesian subsidiaries on the Indonesian stock exchange. 2️⃣ Meta lays off 13% of workforce: Social media giant Meta announced plans to lay off over 11,000 employees, or 13% of its workforce - the first time the company has had to so in its history. In his message to employees, CEO and founder Mark Zuckerberg admitted that he was wrong to have anticipated a permanent acceleration of online commerce growth as a result of the pandemic. Instead, growth has “returned to prior trends.” While Zuckerberg may be criticized for this oversight, many other companies made the same mistake. In 2020-2021, talking heads were falling over themselves to explain how the pandemic would bring about a “new normal,” ignoring the fact that many were actually happy with their pre-pandemic lives and would go back to traveling, shopping, and dining out once they were able to. Hybrid work and inflation are perhaps some of the longer-lasting effects of the pandemic and lockdowns. Read more: Tracking layoffs across Asia’s startup ecosystem (Updated) Zuckerberg also highlighted other things that Meta was doing to cut costs, including shrinking its real estate footprint, which can’t be good news for the owners of commercial office properties. However, Meta does not seem to have any intention of scaling back its big metaverse investments and plans - or at least will not admit to doing so publicly. Much of the angst investors have towards Meta (whose stock is down by 70% year-to-date) stems from its seemingly limitless spending on that front. Until Zuckerbeg can effectively address those concerns, don’t expect a substantial recovery in Meta’s beaten-down shares. 3️⃣ Lyft (LYFT, NDAQ) dumped on growth fears: Investors dumped shares in US ride-hailing company Lyft, after its latest results showed active riders growing at a slowing pace and below market expectations. This comes only a week after shares of rival Uber (UBER, NDAQ) soared after the company beat revenue expectations. According to analysts, Uber was doing a “much better job at rebuilding driver supply.” One factor in Uber’s advantage is its food delivery business, which gives its drivers more opportunities to make money than Lyft, which focuses entirely on ride-hailing. This is the dominant model in markets like Southeast Asia, where Grab and GoTo offer a range of services beyond ride hailing - a moat against would-be competitors like Tada or Ryde in Singapore. 2 Eye-popping facts Tech in Asia scours the internet to bring you head-turning numbers from the world of business. 0 - The value that VC fund Sequoia has marked its investment in cryptocurrency exchange FTX down to, following news over the weekend that FTX had suffered a “bank run” and was looking for a bailout from competitor Binance, which has since declined to proceed with a takeover. US$2 billion - The amount that TikTok cut from its 2022 revenue outlook, which is now forecast at US$10 billion instead of US$12 billion. This comes even though TikTok outpaces its social media competitors in terms of growth and user engagement. The cool-off in advertising spend is well and truly here. The one you didn’t see coming We spotlight the unusual, not-your-everyday kind of story that had everyone talking and social media buzzing over the past week. Bank of Singapore fined by Dubai regulator Bank of Singapore, the private banking arm of Singapore’s Oversea-Chinese Banking Corporation (OCBC) (O39, SGX), was fined US$1.1 million by the Dubai Financial Servies Authority for various breaches, including having inadequate systems and controls to check money laundering. Singapore’s banks are generally risk-averse and well-regulated and do not typically run into such problems. OCBC often touts its ranking as one of the world’s safest banks and has also been named the Best Managed Bank in Singapore. While one can argue that this violation by the Dubai branch of Bank of Singapore is twice-removed from OCBC, the latter is ultimately responsible for the actions of its global subsidiaries. That’s it for this edition - we hope you liked it! Happy investing and see you next week! Disclaimer: This content is for informational purposes only. Kindly do not construe any such information as legal, tax, investment, financial, or other advice.\n",
      "\n",
      "Indonesian beauty firm spills the beans on profitabilitySign up for the Daily Newsletter, sent exclusively to our premium subscribers. We break down the big and messy topics of Asia’s tech and startup community. Get the newsletter in your inbox everyday with a premium subscription. Hi readers, In the past year, we have seen many startups shift their focus toward profitability. As a result, some of them have made significant decisions, such as increasing efficiency and pivoting their business models. Recently, I have been trying to find profitable startups that are willing to share their secret sauce. My hope is to inspire others on how to build profitable startups in the current investment climate. Esqa, an Indonesia-based beauty firm, is one of the companies that I have discovered. Founded in 2015, the company was able to achieve profitability in its second year of operations, even without having external funding when it started. There are several interesting things about Esqa, such as its two founders - Cindy Angelina and Kezia Trihatmanto - being childhood friends, the company's focus on vegan cosmetics, and its ability to double its revenue every year. I spoke with CEO Angelina, who revealed how the company maintains its growth. She also shares the firm's plans for the future with the series A funding it raised in November. For those interested in the beauty industry, especially in Indonesia, I think this story will be interesting for you. -- Jofie Yordan, journalist at Tech in Asia Top stories this week 1️. Indonesian beauty firm turns $40k investment into profitable business in two years Cindy Angelina and Kezia Trihatmanto founded vegan cosmetics brand Esqa, which now has hundreds of thousands of followers on social media. 2. Grab rolls out initiatives to benefit from rebound in SEA tourism The super app wants to welcome travelers back to the region with new and updated features. But what impact will this have on Grab’s top line? 3. Gen Z: the new force in the Indonesian market Gen Z is just starting to enter the workforce. But in a few years’ time, the entire generation will be of working age in Indonesia. 4. Mapping Temasek’s role in the startup space (updated) The Singapore-based investor has launched 28 companies, including 14 investment firms and a venture-building arm, in its quest for disruptive businesses. 5. Blending skincare, AI, and tech: Skin Inc charts path to US growth and a Nasdaq IPO The Singapore-based firm, which saw online sales grow 400% during the pandemic, is banking on AI-led recommendations for its next phase of growth. 6. Breaking down the costs of launching a digital bank in Asia Pacific The total cost ranges from US$20 million to US$45 million, and a sizable chunk goes to tech and software licenses. 7. True Global Ventures pivots fund to focus on generative AI The previously Web3-focused firm is shifting its attention back to AI, partner Kelly Choo says. 8. Funding gap threatens net-zero targets Global investment in low-carbon tech must come close to US$8 trillion by 2050 for the world to hit net zero, but that will require rapid scaling. 9. Malaysia’s Islamic fintech scene: fool’s gold? A Muslim-majority population is no panacea for hopefuls trying to make a dent in the Shariah fintech space. 10. Charting the most common AI use cases The most common use case for AI is optimizing service operations, while predictive functions are less commonly used, contrary to popular belief.\n"
     ]
    }
   ],
   "source": [
    "background_knowledge = generate_background_knowledge(top_5_articles)\n",
    "print(background_knowledge)"
   ]
  },
  {
   "cell_type": "markdown",
   "metadata": {},
   "source": [
    "## 4.2 Generate Response via OpenAI"
   ]
  },
  {
   "cell_type": "code",
   "execution_count": 20,
   "metadata": {},
   "outputs": [],
   "source": [
    "# Function to generate responses using OpenAI\n",
    "def generate_response(query, background_knowledge):\n",
    "    try:\n",
    "        response = client.chat.completions.create(\n",
    "            model=\"gpt-3.5-turbo\",\n",
    "            messages=[\n",
    "                {\"role\": \"system\", \"content\": \"Answer the question based on the question asked and background knowledge provided below, and if the question can't be answered based on the context, say \\\"I don't know\\\"\\n\\n\"},\n",
    "                {\"role\": \"user\", \"content\": f\"Question: {query}\\nBackground Knowledge: {background_knowledge}\\nAnswer:\"}\n",
    "            ],\n",
    "            max_tokens=100\n",
    "        )\n",
    "        return response.choices[0].message.content\n",
    "    \n",
    "    except Exception as e:\n",
    "        print(f'Error generating response: {e}')\n",
    "        return None"
   ]
  },
  {
   "cell_type": "code",
   "execution_count": 21,
   "metadata": {},
   "outputs": [
    {
     "data": {
      "text/plain": [
       "\"Grab's profitability has been improving, with the company posting a revenue of $525 million in Q1 2023 and reducing its adjusted losses by 77% compared to the previous year. The company aims to achieve group adjusted EBITDA breakeven in the fourth quarter of the same year. Grab has seen growth in various segments such as deliveries, mobility, and financial services, indicating a positive trajectory towards profitability.\""
      ]
     },
     "execution_count": 21,
     "metadata": {},
     "output_type": "execute_result"
    }
   ],
   "source": [
    "generate_response(query, background_knowledge)"
   ]
  },
  {
   "cell_type": "markdown",
   "metadata": {},
   "source": [
    "## 4.3 Gradio Interface"
   ]
  },
  {
   "cell_type": "code",
   "execution_count": 22,
   "metadata": {},
   "outputs": [],
   "source": [
    "# # Build the Gradio interface\n",
    "# def rag_interface(query):\n",
    "#     search_results = search_posts(query)\n",
    "#     return generate_response(search_results, query)\n",
    "\n",
    "# iface = gr.Interface(fn=rag_interface, inputs=\"text\", outputs=\"text\", title='Tech in Asia RAG System', description='Ask a question about Tech in Asia and get an answer based on the context of the latest posts.')\n",
    "# iface.launch()"
   ]
  }
 ],
 "metadata": {
  "kernelspec": {
   "display_name": "venv",
   "language": "python",
   "name": "python3"
  },
  "language_info": {
   "codemirror_mode": {
    "name": "ipython",
    "version": 3
   },
   "file_extension": ".py",
   "mimetype": "text/x-python",
   "name": "python",
   "nbconvert_exporter": "python",
   "pygments_lexer": "ipython3",
   "version": "3.9.6"
  }
 },
 "nbformat": 4,
 "nbformat_minor": 2
}
