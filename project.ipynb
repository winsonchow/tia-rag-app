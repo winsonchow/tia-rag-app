{
 "cells": [
  {
   "cell_type": "code",
   "execution_count": 1,
   "metadata": {},
   "outputs": [
    {
     "name": "stderr",
     "output_type": "stream",
     "text": [
      "/Users/winsonchow/Documents/GitHub/RAG-app/venv/lib/python3.9/site-packages/urllib3/__init__.py:35: NotOpenSSLWarning: urllib3 v2 only supports OpenSSL 1.1.1+, currently the 'ssl' module is compiled with 'LibreSSL 2.8.3'. See: https://github.com/urllib3/urllib3/issues/3020\n",
      "  warnings.warn(\n",
      "/Users/winsonchow/Documents/GitHub/RAG-app/venv/lib/python3.9/site-packages/tqdm/auto.py:21: TqdmWarning: IProgress not found. Please update jupyter and ipywidgets. See https://ipywidgets.readthedocs.io/en/stable/user_install.html\n",
      "  from .autonotebook import tqdm as notebook_tqdm\n"
     ]
    }
   ],
   "source": [
    "# System imports\n",
    "import os\n",
    "from dotenv import load_dotenv\n",
    "\n",
    "# Python libraries\n",
    "import requests\n",
    "\n",
    "# Gradio imports\n",
    "import gradio as gr\n",
    "\n",
    "# OpenAI imports\n",
    "from openai import OpenAI"
   ]
  },
  {
   "cell_type": "code",
   "execution_count": 2,
   "metadata": {},
   "outputs": [],
   "source": [
    "# Load the environment variables\n",
    "load_dotenv()\n",
    "\n",
    "# Retrieve the API key from the environment variable\n",
    "client = OpenAI(\n",
    "    api_key=os.environ.get(\"OPENAI_API_KEY\"),\n",
    ")"
   ]
  },
  {
   "cell_type": "code",
   "execution_count": 3,
   "metadata": {},
   "outputs": [],
   "source": [
    "# Define API endpoints\n",
    "list_posts_url = 'https://www.techinasia.com/wp-json/techinasia/2.0/posts'\n",
    "search_posts_url = 'https://www.techinasia.com/wp-json/techinasia/2.0/articles?query='"
   ]
  },
  {
   "cell_type": "code",
   "execution_count": 4,
   "metadata": {},
   "outputs": [],
   "source": [
    "# Function to fetch posts from API\n",
    "def fetch_posts_from_api(page):\n",
    "    try:\n",
    "        headers = {\n",
    "            'User-Agent': 'Mozilla/5.0 (Windows NT 10.0; Win64; x64) AppleWebKit/537.36 (KHTML, like Gecko) Chrome/91.0.4472.124 Safari/537.36'\n",
    "        }\n",
    "        response = requests.get(list_posts_url, params={'page': page}, headers=headers)\n",
    "        response.raise_for_status()\n",
    "        print(\"Status Code:\", response.status_code)\n",
    "        # print(\"Response Headers:\", response.headers)\n",
    "        # print(\"Response Text:\", response.text)\n",
    "\n",
    "        post_data = response.json()\n",
    "\n",
    "        return post_data['posts']\n",
    "    \n",
    "    except requests.exceptions.RequestException as e:\n",
    "        print(f'Error fetching posts: {e}')\n",
    "        return None\n",
    "    except ValueError as e:\n",
    "        print(f'Error parsing response: {e}')\n",
    "        return None"
   ]
  },
  {
   "cell_type": "code",
   "execution_count": 5,
   "metadata": {},
   "outputs": [],
   "source": [
    "# Function to search posts from API\n",
    "def search_posts(query):\n",
    "    try:\n",
    "        headers = {\n",
    "            'User-Agent': 'Mozilla/5.0 (Windows NT 10.0; Win64; x64) AppleWebKit/537.36 (KHTML, like Gecko) Chrome/91.0.4472.124 Safari/537.36'\n",
    "        }\n",
    "        response = requests.get(search_posts_url, params={'query': query}, headers=headers)\n",
    "        response.raise_for_status()\n",
    "        print(\"Status Code:\", response.status_code)\n",
    "        # print(\"Response Headers:\", response.headers)\n",
    "        # print(\"Response Text:\", response.text)\n",
    "\n",
    "        return response.json()\n",
    "    \n",
    "    except requests.exceptions.RequestException as e:\n",
    "        print(f'Error fetching posts: {e}')\n",
    "        return None\n",
    "    except ValueError as e:\n",
    "        print(f'Error parsing response: {e}')\n",
    "        return None"
   ]
  },
  {
   "cell_type": "code",
   "execution_count": 6,
   "metadata": {},
   "outputs": [
    {
     "name": "stdout",
     "output_type": "stream",
     "text": [
      "Status Code: 200\n",
      "Fetched 30 posts.\n"
     ]
    }
   ],
   "source": [
    "# Fetch posts\n",
    "page = 1\n",
    "posts = fetch_posts_from_api(page=page)\n",
    "print(f\"Fetched {len(posts)} posts.\")\n",
    "\n",
    "# # Display the first post to verify the structure\n",
    "# if posts:\n",
    "#     print(posts[0])"
   ]
  },
  {
   "cell_type": "code",
   "execution_count": 7,
   "metadata": {},
   "outputs": [],
   "source": [
    "# # Search for posts with a keyword\n",
    "# query = \"What are the upcoming Events at Tech in Asia?\"\n",
    "\n",
    "# search_results = search_posts(query)\n",
    "\n",
    "# if search_results and 'posts' in search_results and 'hits' in search_results['posts']:\n",
    "#     search_posts = search_results['posts']['hits']\n",
    "#     # context with title only\n",
    "#     context = \" \".join([post['title'] for post in search_posts[:10]])\n",
    "\n",
    "#     # context with title and content\n",
    "#     # context = \"\".join([post['title'] + post['content'] for post in search_posts[:3]])\n",
    "\n",
    "#     print(f\"Context: {context}\")\n",
    "# else:\n",
    "#     context = 'No relevant posts found. Please provide more context.'"
   ]
  },
  {
   "cell_type": "code",
   "execution_count": 8,
   "metadata": {},
   "outputs": [],
   "source": [
    "# Function to generate responses using OpenAI\n",
    "def generate_response(search_results, query):\n",
    "    try:\n",
    "        if search_results and 'posts' in search_results and 'hits' in search_results['posts']:\n",
    "            search_posts = search_results['posts']['hits']\n",
    "            # context with title only\n",
    "            # context = \" \".join([post['title'] for post in search_posts[:2]])\n",
    "\n",
    "            # context with title and content\n",
    "            context = \"\".join([post['title'] + post['content'] for post in search_posts[:3]])\n",
    "        else:\n",
    "            context = 'No relevant posts found. Please provide more context.'\n",
    "\n",
    "        response = client.chat.completions.create(\n",
    "            model=\"gpt-3.5-turbo\",\n",
    "            messages=[\n",
    "                {\"role\": \"system\", \"content\": \"Answer the question based on the question asked and context provided below, and if the question can't be answered based on the context, say \\\"I don't know\\\"\\n\\n\"},\n",
    "                {\"role\": \"user\", \"content\": f\"Question: {query}\\nContext: {context}\\nAnswer:\"}\n",
    "            ],\n",
    "            max_tokens=100\n",
    "        )\n",
    "        return response.choices[0].message.content\n",
    "    \n",
    "    except Exception as e:\n",
    "        print(f'Error generating response: {e}')\n",
    "        return None"
   ]
  },
  {
   "cell_type": "code",
   "execution_count": 9,
   "metadata": {},
   "outputs": [],
   "source": [
    "# # Test the response generation\n",
    "# query = 'How is Grab performing in the market?'\n",
    "\n",
    "# search_results = search_posts(query)\n",
    "# generate_response(search_results, query)"
   ]
  },
  {
   "cell_type": "code",
   "execution_count": 10,
   "metadata": {},
   "outputs": [
    {
     "name": "stdout",
     "output_type": "stream",
     "text": [
      "Running on local URL:  http://127.0.0.1:7860\n",
      "\n",
      "To create a public link, set `share=True` in `launch()`.\n"
     ]
    },
    {
     "data": {
      "text/html": [
       "<div><iframe src=\"http://127.0.0.1:7860/\" width=\"100%\" height=\"500\" allow=\"autoplay; camera; microphone; clipboard-read; clipboard-write;\" frameborder=\"0\" allowfullscreen></iframe></div>"
      ],
      "text/plain": [
       "<IPython.core.display.HTML object>"
      ]
     },
     "metadata": {},
     "output_type": "display_data"
    },
    {
     "data": {
      "text/plain": []
     },
     "execution_count": 10,
     "metadata": {},
     "output_type": "execute_result"
    },
    {
     "name": "stdout",
     "output_type": "stream",
     "text": [
      "Status Code: 200\n"
     ]
    }
   ],
   "source": [
    "# Build the Gradio interface\n",
    "def rag_interface(query):\n",
    "    search_results = search_posts(query)\n",
    "    return generate_response(search_results, query)\n",
    "\n",
    "iface = gr.Interface(fn=rag_interface, inputs=\"text\", outputs=\"text\", title='Tech in Asia RAG System', description='Ask a question about Tech in Asia and get an answer based on the context of the latest posts.')\n",
    "iface.launch()"
   ]
  }
 ],
 "metadata": {
  "kernelspec": {
   "display_name": "venv",
   "language": "python",
   "name": "python3"
  },
  "language_info": {
   "codemirror_mode": {
    "name": "ipython",
    "version": 3
   },
   "file_extension": ".py",
   "mimetype": "text/x-python",
   "name": "python",
   "nbconvert_exporter": "python",
   "pygments_lexer": "ipython3",
   "version": "3.9.6"
  }
 },
 "nbformat": 4,
 "nbformat_minor": 2
}
