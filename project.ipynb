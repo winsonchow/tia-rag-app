{
 "cells": [
  {
   "cell_type": "markdown",
   "metadata": {},
   "source": [
    "# 1 Setup"
   ]
  },
  {
   "cell_type": "code",
   "execution_count": 1,
   "metadata": {},
   "outputs": [
    {
     "name": "stderr",
     "output_type": "stream",
     "text": [
      "/Users/winsonchow/Documents/GitHub/RAG-app/venv/lib/python3.9/site-packages/urllib3/__init__.py:35: NotOpenSSLWarning: urllib3 v2 only supports OpenSSL 1.1.1+, currently the 'ssl' module is compiled with 'LibreSSL 2.8.3'. See: https://github.com/urllib3/urllib3/issues/3020\n",
      "  warnings.warn(\n",
      "/Users/winsonchow/Documents/GitHub/RAG-app/venv/lib/python3.9/site-packages/tqdm/auto.py:21: TqdmWarning: IProgress not found. Please update jupyter and ipywidgets. See https://ipywidgets.readthedocs.io/en/stable/user_install.html\n",
      "  from .autonotebook import tqdm as notebook_tqdm\n"
     ]
    }
   ],
   "source": [
    "# System imports\n",
    "import os\n",
    "import re\n",
    "\n",
    "# Environment variable management\n",
    "from dotenv import load_dotenv\n",
    "\n",
    "# HTTP requests\n",
    "import requests\n",
    "\n",
    "# Web scraping\n",
    "from bs4 import BeautifulSoup\n",
    "\n",
    "# NLP processing\n",
    "import spacy\n",
    "\n",
    "# Load the spacy model\n",
    "nlp = spacy.load('en_core_web_sm')\n",
    "\n",
    "# Ranking algorithm\n",
    "from rank_bm25 import BM25Okapi\n",
    "\n",
    "# OpenAI API\n",
    "from openai import OpenAI\n",
    "\n",
    "# User interface\n",
    "import gradio as gr"
   ]
  },
  {
   "cell_type": "code",
   "execution_count": 2,
   "metadata": {},
   "outputs": [],
   "source": [
    "# Load the environment variables\n",
    "load_dotenv()\n",
    "\n",
    "# Retrieve the API key from the environment variable\n",
    "client = OpenAI(\n",
    "    api_key=os.environ.get(\"OPENAI_API_KEY\"),\n",
    ")"
   ]
  },
  {
   "cell_type": "code",
   "execution_count": 3,
   "metadata": {},
   "outputs": [],
   "source": [
    "# Define API endpoints\n",
    "list_posts_url = 'https://www.techinasia.com/wp-json/techinasia/2.0/posts'\n",
    "search_posts_url = 'https://www.techinasia.com/wp-json/techinasia/2.0/articles?query='"
   ]
  },
  {
   "cell_type": "markdown",
   "metadata": {},
   "source": [
    "# 2 Data Retrieval"
   ]
  },
  {
   "cell_type": "markdown",
   "metadata": {},
   "source": [
    "## 2.1 Fetch Post by Page"
   ]
  },
  {
   "cell_type": "code",
   "execution_count": 4,
   "metadata": {},
   "outputs": [],
   "source": [
    "# Function to fetch posts from API\n",
    "def fetch_posts(page):\n",
    "    try:\n",
    "        headers = {\n",
    "            'User-Agent': 'Mozilla/5.0 (Windows NT 10.0; Win64; x64) AppleWebKit/537.36 (KHTML, like Gecko) Chrome/91.0.4472.124 Safari/537.36'\n",
    "        }\n",
    "        response = requests.get(list_posts_url, params={'page': page}, headers=headers)\n",
    "\n",
    "        if response.status_code == 200:\n",
    "            try:\n",
    "                return response.json()\n",
    "            except ValueError as e:\n",
    "                print(f'Error parsing response JSON: {e}')\n",
    "                return []\n",
    "        else:\n",
    "            print(f'Error fetching posts: HTTP {response.status_code}')\n",
    "            return []\n",
    "    \n",
    "    except requests.exceptions.RequestException as e:\n",
    "        print(f'Error fetching posts: {e}')\n",
    "        return []"
   ]
  },
  {
   "cell_type": "markdown",
   "metadata": {},
   "source": [
    "## 2.2 Search Post by Keywords"
   ]
  },
  {
   "cell_type": "code",
   "execution_count": 5,
   "metadata": {},
   "outputs": [],
   "source": [
    "# Function to search posts from API\n",
    "def search_posts(keywords):\n",
    "    try:\n",
    "        headers = {\n",
    "            'User-Agent': 'Mozilla/5.0 (Windows NT 10.0; Win64; x64) AppleWebKit/537.36 (KHTML, like Gecko) Chrome/91.0.4472.124 Safari/537.36'\n",
    "        }\n",
    "        response = requests.get(search_posts_url, params={'query': keywords}, headers=headers)\n",
    "\n",
    "        if response.status_code == 200:\n",
    "            try:\n",
    "                return response.json()\n",
    "            except ValueError as e:\n",
    "                print(f'Error parsing response JSON: {e}')\n",
    "                return []\n",
    "        else:\n",
    "            print(f'Error fetching posts: HTTP {response.status_code}')\n",
    "            return []\n",
    "    \n",
    "    except requests.exceptions.RequestException as e:\n",
    "        print(f'Error fetching posts: {e}')\n",
    "        return []"
   ]
  },
  {
   "cell_type": "markdown",
   "metadata": {},
   "source": [
    "# 3 Preprocessing"
   ]
  },
  {
   "cell_type": "markdown",
   "metadata": {},
   "source": [
    "## 3.1 Determining Which API Call to Use"
   ]
  },
  {
   "cell_type": "code",
   "execution_count": 6,
   "metadata": {},
   "outputs": [
    {
     "name": "stdout",
     "output_type": "stream",
     "text": [
      "Entity: Grab, Label: NORP\n",
      "Entity: HonestBee, Label: ORG\n",
      "Entity: Indonesia, Label: GPE\n",
      "Entity: Asia, Label: LOC\n",
      "Entity: today, Label: DATE\n",
      "Query: Tell me about Grab’s profitability.\n",
      "Category: specific query\n",
      "\n",
      "Query: Give me a history of HonestBee.\n",
      "Category: specific query\n",
      "\n",
      "Query: What are the top startups in Indonesia?\n",
      "Category: specific query\n",
      "\n",
      "Query: What are the upcoming Events at Tech in Asia?\n",
      "Category: specific query\n",
      "\n",
      "Query: What's happening today?\n",
      "Category: general query\n",
      "\n"
     ]
    }
   ],
   "source": [
    "# Define entity types to ignore\n",
    "ignore_entities = {'DATE', 'TIME'}\n",
    "\n",
    "def classify_query(query):\n",
    "    # Process the question with spaCy's NER model\n",
    "    doc = nlp(query)\n",
    "    # Debugging: Print detected entities and their labels\n",
    "    for ent in doc.ents:\n",
    "        print(f\"Entity: {ent.text}, Label: {ent.label_}\")\n",
    "    # Check if any entities are present that are not in the ignore list\n",
    "    if any(ent.label_ not in ignore_entities for ent in doc.ents):\n",
    "        return \"specific query\"\n",
    "    else:\n",
    "        return \"general query\"\n",
    "\n",
    "# Example questions\n",
    "queries = [\n",
    "    \"Tell me about Grab’s profitability.\",\n",
    "    \"Give me a history of HonestBee.\",\n",
    "    \"What are the top startups in Indonesia?\",\n",
    "    \"What are the upcoming Events at Tech in Asia?\",\n",
    "    \"What's happening today?\"\n",
    "]\n",
    "\n",
    "# Classify each question\n",
    "classified_queries = {query: classify_query(query) for query in queries}\n",
    "\n",
    "# Display the results\n",
    "for query, category in classified_queries.items():\n",
    "    print(f\"Query: {query}\\nCategory: {category}\\n\")"
   ]
  },
  {
   "cell_type": "markdown",
   "metadata": {},
   "source": [
    "## 3.2 Extracting Keywords from User Query"
   ]
  },
  {
   "cell_type": "code",
   "execution_count": 7,
   "metadata": {},
   "outputs": [],
   "source": [
    "def preprocess_query(query):\n",
    "    doc = nlp(query)\n",
    "    keywords = []\n",
    "    \n",
    "    for token in doc:\n",
    "        if not token.is_stop and not token.is_punct:\n",
    "            # Add named entities and nouns to keywords list\n",
    "            if token.ent_type_ or token.pos_ in ['NOUN', 'PROPN', 'ADJ']:\n",
    "                keywords.append(token.lemma_)\n",
    "    \n",
    "    return keywords"
   ]
  },
  {
   "cell_type": "code",
   "execution_count": 8,
   "metadata": {},
   "outputs": [
    {
     "name": "stdout",
     "output_type": "stream",
     "text": [
      "Extracted Keywords: ['today']\n",
      "Entity: today, Label: DATE\n"
     ]
    },
    {
     "data": {
      "text/plain": [
       "'general query'"
      ]
     },
     "execution_count": 8,
     "metadata": {},
     "output_type": "execute_result"
    }
   ],
   "source": [
    "# Example query\n",
    "query = \"What’s happening today?\"\n",
    "keywords = preprocess_query(query)\n",
    "print(\"Extracted Keywords:\", keywords)\n",
    "classify_query(query)\n",
    "\n",
    "# query = \"Tell me about Grab’s profitability.\"\n",
    "# keywords = preprocess_query(query)\n",
    "# print(\"Extracted Keywords:\", keywords)\n",
    "\n",
    "# query = \"Give me a history of HonestBee.\"\n",
    "# keywords = preprocess_query(query)\n",
    "# print(\"Extracted Keywords:\", keywords)\n",
    "\n",
    "# query = \"What are the top startups in Indonesia?\"\n",
    "# keywords = preprocess_query(query)\n",
    "# print(\"Extracted Keywords:\", keywords)\n",
    "\n",
    "# query = \"What are the upcoming Events at Tech in Asia?\"\n",
    "# keywords = preprocess_query(query)\n",
    "# print(\"Extracted Keywords:\", keywords)"
   ]
  },
  {
   "cell_type": "markdown",
   "metadata": {},
   "source": [
    "## 3.3 Extracting Relevant Articles"
   ]
  },
  {
   "cell_type": "markdown",
   "metadata": {},
   "source": [
    "### 3.3.1 Retrieving All Articles"
   ]
  },
  {
   "cell_type": "code",
   "execution_count": 9,
   "metadata": {},
   "outputs": [],
   "source": [
    "# Function to clean up the article content\n",
    "def preprocess_article(article):\n",
    "    # Remove HTML tags\n",
    "    article = BeautifulSoup(article, 'html.parser').get_text()\n",
    "\n",
    "    # Remove URLs\n",
    "    article = re.sub(r'http\\S+', '', article)\n",
    "\n",
    "    # Handle special characters\n",
    "    article = re.sub(r'&amp;', '&', article)\n",
    "\n",
    "    # Normalise whitespace\n",
    "    article = re.sub(r'\\s+', ' ', article)\n",
    "\n",
    "    # Remove source and citation tags\n",
    "    article = re.sub(r'\\[.*?\\]+', '', article)\n",
    "\n",
    "    return article"
   ]
  },
  {
   "cell_type": "code",
   "execution_count": 10,
   "metadata": {},
   "outputs": [],
   "source": [
    "def fetch_and_preprocess_articles(query_type, search_results):\n",
    "    # Initialize an empty list to hold the articles\n",
    "    articles = []\n",
    "\n",
    "    if query_type == \"specific query\":\n",
    "        # Display the search results\n",
    "        if search_results and 'posts' in search_results and 'hits' in search_results['posts']:\n",
    "            search_posts = search_results['posts']['hits']\n",
    "\n",
    "            # Append each article's title and content to the articles list\n",
    "            articles = [post['title'] + post['content'] for post in search_posts[:30]]\n",
    "\n",
    "            # Apply preprocessing to each article\n",
    "            cleaned_articles = [preprocess_article(article) for article in articles]\n",
    "        else:\n",
    "            cleaned_articles = ['No relevant posts found.']\n",
    "    else:\n",
    "         # Display the search results\n",
    "        if search_results and 'posts' in search_results:\n",
    "            search_posts = search_results['posts']\n",
    "\n",
    "            # Append each article's title and content to the articles list\n",
    "            articles = [post['title'] + post['content'] for post in search_posts[:30]]\n",
    "\n",
    "            # Apply preprocessing to each article\n",
    "            cleaned_articles = [preprocess_article(article) for article in articles]\n",
    "        else:\n",
    "            cleaned_articles = ['No relevant posts found.']\n",
    "\n",
    "\n",
    "    return cleaned_articles"
   ]
  },
  {
   "cell_type": "code",
   "execution_count": 11,
   "metadata": {},
   "outputs": [],
   "source": [
    "# Count the number of articles in the search results\n",
    "def count_articles(search_results):\n",
    "    if search_results and 'posts' in search_results and 'hits' in search_results['posts']:\n",
    "        articles_count = len(search_results['posts']['hits'])\n",
    "        return articles_count\n",
    "    return 0"
   ]
  },
  {
   "cell_type": "code",
   "execution_count": 12,
   "metadata": {},
   "outputs": [],
   "source": [
    "# Display articles\n",
    "def display_articles(articles):\n",
    "    for idx, article in enumerate(articles):\n",
    "        print(f\"Article {idx + 1}: {article}\")"
   ]
  },
  {
   "cell_type": "code",
   "execution_count": 13,
   "metadata": {},
   "outputs": [
    {
     "name": "stdout",
     "output_type": "stream",
     "text": [
      "Entity: today, Label: DATE\n",
      "Number of articles found: 0\n"
     ]
    }
   ],
   "source": [
    "if classify_query(query) == \"specific query\":\n",
    "    # Search search \n",
    "    search_results = search_posts(keywords)\n",
    "    query_type = \"specific query\"\n",
    "else:\n",
    "    # Fetch search\n",
    "    search_results = fetch_posts(page=1)\n",
    "    query_type = \"general query\"\n",
    "\n",
    "# Count the number of articles\n",
    "articles_count = count_articles(search_results)\n",
    "print(f\"Number of articles found: {articles_count}\")\n",
    "\n",
    "# Fetch and preprocess articles\n",
    "cleaned_articles = fetch_and_preprocess_articles(query_type, search_results)\n",
    "\n",
    "# Display the preprocessed articles\n",
    "# display_articles(cleaned_articles)"
   ]
  },
  {
   "cell_type": "markdown",
   "metadata": {},
   "source": [
    "### 3.3.2 Ranking Articles with BM25"
   ]
  },
  {
   "cell_type": "code",
   "execution_count": 14,
   "metadata": {},
   "outputs": [],
   "source": [
    "def rank_articles(cleaned_articles, keywords):\n",
    "    if cleaned_articles and cleaned_articles[0] != 'No relevant posts found.':\n",
    "        # Tokenize the articles\n",
    "        tokenized_articles = [article.split() for article in cleaned_articles]\n",
    "\n",
    "        # Initialize BM25\n",
    "        bm25 = BM25Okapi(tokenized_articles)\n",
    "\n",
    "        # Tokenize the query\n",
    "        tokenized_query = \" \".join(keywords).split()\n",
    "\n",
    "        # Get BM25 scores\n",
    "        scores = bm25.get_scores(tokenized_query)\n",
    "        \n",
    "        # Get the indices of the top 5 articles\n",
    "        top_5_indices = scores.argsort()[::-1][:5]\n",
    "        \n",
    "        # Select the top 5 articles based on BM25 scores\n",
    "        top_5_articles = [cleaned_articles[i] for i in top_5_indices]\n",
    "\n",
    "        # Display the top 5 articles\n",
    "        for idx, article in enumerate(top_5_articles):\n",
    "            # Display first 100 characters for brevity\n",
    "            print(f\"Rank {idx + 1} Article (Score: {scores[top_5_indices[idx]]}): {article[:100]}\")\n",
    "\n",
    "        return top_5_articles\n",
    "    else:\n",
    "        print(\"No relevant articles found.\")\n",
    "        return []"
   ]
  },
  {
   "cell_type": "code",
   "execution_count": 15,
   "metadata": {},
   "outputs": [
    {
     "name": "stdout",
     "output_type": "stream",
     "text": [
      "Rank 1 Article (Score: 2.8908982794513416): Vietnam’s tech future isn’t waiting. Are you?Vietnam’s tech scene is on the cusp of something big. D\n",
      "Rank 2 Article (Score: 1.2375700325868246): Singapore’s new PM has his work cut out for himSign up for the Daily Newsletter, sent exclusively to\n",
      "Rank 3 Article (Score: 0.0): Glasswall: The things anonymous founders say about VCs In the startup world, choosing the right inve\n",
      "Rank 4 Article (Score: 0.0): These are the most active investors in Israel’s startupsWhich investors are the most active in Israe\n",
      "Rank 5 Article (Score: 0.0): India’s Zypp Electric nets $15m to expand EV fleet Photo credit: Zypp Electric India-based Zypp Elec\n"
     ]
    }
   ],
   "source": [
    "# Rank articles\n",
    "top_5_articles = rank_articles(cleaned_articles, keywords)"
   ]
  },
  {
   "cell_type": "markdown",
   "metadata": {},
   "source": [
    "## 3.4 Comparing Retrieval Methods"
   ]
  },
  {
   "cell_type": "markdown",
   "metadata": {},
   "source": [
    "# 4 RAG Implementation"
   ]
  },
  {
   "cell_type": "markdown",
   "metadata": {},
   "source": [
    "## 4.1 Generate Context for LLM"
   ]
  },
  {
   "cell_type": "code",
   "execution_count": 16,
   "metadata": {},
   "outputs": [],
   "source": [
    "def generate_background_knowledge(top_articles):\n",
    "    # Ensure top_articles is a list of strings\n",
    "    if not isinstance(top_articles, list):\n",
    "        raise TypeError(\"top_articles must be a list\")\n",
    "    if not all(isinstance(article, str) for article in top_articles):\n",
    "        raise TypeError(\"All elements in top_articles must be strings\")\n",
    "    \n",
    "    # Combine the content of the top articles into a single string\n",
    "    background_knowledge = \"\\n\\n\".join(top_articles)\n",
    "    \n",
    "    return background_knowledge"
   ]
  },
  {
   "cell_type": "code",
   "execution_count": 17,
   "metadata": {},
   "outputs": [],
   "source": [
    "# Generate background knowledge\n",
    "background_knowledge = generate_background_knowledge(top_5_articles)"
   ]
  },
  {
   "cell_type": "markdown",
   "metadata": {},
   "source": [
    "## 4.2 Generate Response via OpenAI"
   ]
  },
  {
   "cell_type": "code",
   "execution_count": 18,
   "metadata": {},
   "outputs": [],
   "source": [
    "# Function to generate responses using OpenAI\n",
    "def generate_response(query, background_knowledge):\n",
    "    try:\n",
    "        response = client.chat.completions.create(\n",
    "            model=\"gpt-4o\",\n",
    "            messages=[\n",
    "                {\"role\": \"system\", \"content\": \"Answer the question based on the question asked and background knowledge provided below\"},\n",
    "                {\"role\": \"user\", \"content\": f\"Question: {query}\\nBackground Knowledge: {background_knowledge}\\nAnswer:\"}\n",
    "            ],\n",
    "            max_tokens=150\n",
    "        )\n",
    "        return response.choices[0].message.content\n",
    "    \n",
    "    except Exception as e:\n",
    "        print(f'Error generating response: {e}')\n",
    "        return None"
   ]
  },
  {
   "cell_type": "code",
   "execution_count": 19,
   "metadata": {},
   "outputs": [],
   "source": [
    "# generate_response(query, background_knowledge)"
   ]
  },
  {
   "cell_type": "markdown",
   "metadata": {},
   "source": [
    "## 4.3 Gradio Interface"
   ]
  },
  {
   "cell_type": "code",
   "execution_count": 21,
   "metadata": {},
   "outputs": [],
   "source": [
    "# Build the Gradio interface\n",
    "def rag_interface(query):\n",
    "    keywords = preprocess_query(query)\n",
    "\n",
    "    if classify_query(query) == \"specific query\":\n",
    "        # Search search \n",
    "        search_results = search_posts(keywords)\n",
    "        query_type = \"specific query\"\n",
    "    else:\n",
    "        # Fetch search\n",
    "        search_results = fetch_posts(page=1)\n",
    "        query_type = \"general query\"\n",
    "\n",
    "    cleaned_articles = fetch_and_preprocess_articles(query_type, search_results)\n",
    "    top_5_articles = rank_articles(cleaned_articles, keywords)\n",
    "    background_knowledge = generate_background_knowledge(top_5_articles)\n",
    "    \n",
    "    return generate_response(query, background_knowledge)\n",
    "\n",
    "iface = gr.Interface(fn=rag_interface, inputs=\"text\", outputs=\"text\", title='Tech in Asia RAG System', description='Ask a question about Tech in Asia and get an answer based on the context of the latest posts.')\n",
    "# iface.launch()"
   ]
  }
 ],
 "metadata": {
  "kernelspec": {
   "display_name": "venv",
   "language": "python",
   "name": "python3"
  },
  "language_info": {
   "codemirror_mode": {
    "name": "ipython",
    "version": 3
   },
   "file_extension": ".py",
   "mimetype": "text/x-python",
   "name": "python",
   "nbconvert_exporter": "python",
   "pygments_lexer": "ipython3",
   "version": "3.9.6"
  }
 },
 "nbformat": 4,
 "nbformat_minor": 2
}
